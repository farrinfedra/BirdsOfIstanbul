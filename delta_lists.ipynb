{
 "cells": [
  {
   "cell_type": "code",
   "execution_count": 3,
   "metadata": {},
   "outputs": [],
   "source": [
    "import os \n",
    "import pandas as pd"
   ]
  },
  {
   "cell_type": "code",
   "execution_count": 4,
   "metadata": {
    "pycharm": {
     "name": "#%%\n"
    }
   },
   "outputs": [
    {
     "name": "stdout",
     "output_type": "stream",
     "text": [
      "494 927\n"
     ]
    }
   ],
   "source": [
    "bi = []\n",
    "be = []\n",
    "with open('ebird_istanbul.txt', 'r') as ei:\n",
    "    bi = ei.readlines()\n",
    "with open('ebird_europe.txt', 'r') as ee:\n",
    "    be = ee.readlines()\n",
    "\n",
    "print(len(bi), len(be))"
   ]
  },
  {
   "cell_type": "code",
   "execution_count": 5,
   "metadata": {
    "pycharm": {
     "name": "#%%\n"
    }
   },
   "outputs": [],
   "source": [
    "for i in bi:\n",
    "    if not i in be:\n",
    "        be.append(i)"
   ]
  },
  {
   "cell_type": "code",
   "execution_count": 18,
   "metadata": {},
   "outputs": [
    {
     "data": {
      "text/plain": [
       "957"
      ]
     },
     "execution_count": 18,
     "metadata": {},
     "output_type": "execute_result"
    }
   ],
   "source": [
    "len(be)"
   ]
  },
  {
   "cell_type": "code",
   "execution_count": 22,
   "metadata": {},
   "outputs": [],
   "source": [
    "with open('combined_list.txt', 'w') as f:\n",
    "    for item in be:\n",
    "        f.write(\"%s\\n\" % item)"
   ]
  },
  {
   "cell_type": "code",
   "execution_count": 68,
   "metadata": {},
   "outputs": [],
   "source": [
    "# get bird scietific name\n",
    "birds = []\n",
    "with open('combined_list.txt', 'r') as ff:\n",
    "    birds = ff.readlines()"
   ]
  },
  {
   "cell_type": "code",
   "execution_count": 69,
   "metadata": {},
   "outputs": [],
   "source": [
    "birds = [bir.replace('\\n', '') for bir in birds]"
   ]
  },
  {
   "cell_type": "code",
   "execution_count": 70,
   "metadata": {},
   "outputs": [],
   "source": [
    "with open('eBird_Taxonomy_v2021.csv', 'r') as cl:\n",
    "    df = pd.read_csv(cl)\n"
   ]
  },
  {
   "cell_type": "code",
   "execution_count": 71,
   "metadata": {},
   "outputs": [],
   "source": [
    "newb = []\n",
    "for i in birds:\n",
    "    # get scientific name from ebird taxonomy list\n",
    "    s = df.loc[df.PRIMARY_COM_NAME == i].values[0]\n",
    "    neu = s[4].replace(' ', '_').lower()\n",
    "    newb.append(neu)\n"
   ]
  },
  {
   "cell_type": "code",
   "execution_count": 63,
   "metadata": {},
   "outputs": [],
   "source": [
    "with open('combined_sci_list.txt', 'w') as wr:\n",
    "    for item in newb:\n",
    "        wr.write(\"%s\\n\" % item)"
   ]
  },
  {
   "cell_type": "code",
   "execution_count": 72,
   "metadata": {},
   "outputs": [],
   "source": [
    "#get number of total recordings\n",
    "df2 = pd.DataFrame()\n",
    "freq = []\n",
    "ntfound = []\n",
    "list_of_birddirs = os.listdir('/datasets/xeno_canto/audio/')\n",
    "newb.sort()\n",
    "for species in newb:\n",
    "    if species in list_of_birddirs:\n",
    "        path = '/datasets/xeno_canto/audio/' + species\n",
    "        freq.append(len(os.listdir(path)))\n",
    "    else:\n",
    "        ntfound.append(species)\n",
    "   "
   ]
  },
  {
   "cell_type": "code",
   "execution_count": 73,
   "metadata": {},
   "outputs": [
    {
     "data": {
      "text/plain": [
       "['alaudala_heinei',\n",
       " 'amaurornis_marginalis',\n",
       " 'anthropoides_virgo',\n",
       " 'apus_melba',\n",
       " 'brachyramphus_perdix',\n",
       " 'calonectris_edwardsii',\n",
       " 'chlamydotis_macqueenii',\n",
       " 'ciconia_abdimii',\n",
       " 'corthylio_calendula',\n",
       " 'corvus_dauuricus',\n",
       " 'corvus_monedula',\n",
       " 'curruca_balearica',\n",
       " 'curruca_cantillans',\n",
       " 'curruca_communis',\n",
       " 'curruca_conspicillata',\n",
       " 'curruca_crassirostris',\n",
       " 'curruca_curruca',\n",
       " 'curruca_deserti',\n",
       " 'curruca_deserticola',\n",
       " 'curruca_hortensis',\n",
       " 'curruca_iberiae',\n",
       " 'curruca_melanocephala',\n",
       " 'curruca_mystacea',\n",
       " 'curruca_nana',\n",
       " 'curruca_nisoria',\n",
       " 'curruca_ruppeli',\n",
       " 'curruca_sarda',\n",
       " 'curruca_subalpina',\n",
       " 'curruca_undata',\n",
       " 'fratercula_cirrhata',\n",
       " 'gulosus_aristotelis',\n",
       " 'hydrobates_castro',\n",
       " 'hydrobates_leucorhous',\n",
       " 'hydrobates_monorhis',\n",
       " 'hydrobates_monteiroi',\n",
       " 'melanitta_stejnegeri',\n",
       " 'nannopterum_auritum',\n",
       " 'numenius_borealis',\n",
       " 'oenanthe_melanoleuca',\n",
       " 'pelecanus_rufescens',\n",
       " 'pterodroma_cahow',\n",
       " 'pterodroma_hasitata',\n",
       " 'streptopelia_senegalensis',\n",
       " 'strix_mauritanica',\n",
       " 'synoicus_chinensis',\n",
       " 'thalasseus_albididorsalis',\n",
       " 'vermivora_chrysoptera',\n",
       " 'vermivora_cyanoptera',\n",
       " 'vidua_macroura',\n",
       " 'vireo_flavifrons',\n",
       " 'vireo_gilvus',\n",
       " 'vireo_griseus',\n",
       " 'vireo_olivaceus',\n",
       " 'vireo_philadelphicus',\n",
       " 'xanthocephalus_xanthocephalus',\n",
       " 'xema_sabini',\n",
       " 'xenus_cinereus',\n",
       " 'zapornia_parva',\n",
       " 'zapornia_pusilla',\n",
       " 'zenaida_macroura',\n",
       " 'zonotrichia_albicollis',\n",
       " 'zonotrichia_leucophrys',\n",
       " 'zoothera_aurea',\n",
       " 'zosterops_palpebrosus']"
      ]
     },
     "execution_count": 73,
     "metadata": {},
     "output_type": "execute_result"
    }
   ],
   "source": [
    "ntfound"
   ]
  },
  {
   "cell_type": "code",
   "execution_count": 76,
   "metadata": {},
   "outputs": [
    {
     "data": {
      "text/plain": [
       "230674"
      ]
     },
     "execution_count": 76,
     "metadata": {},
     "output_type": "execute_result"
    }
   ],
   "source": [
    "sum(freq)"
   ]
  },
  {
   "cell_type": "code",
   "execution_count": 77,
   "metadata": {},
   "outputs": [],
   "source": [
    "with open('notFound.txt', 'w') as wf:\n",
    "    for item in ntfound:\n",
    "        wf.write(\"%s\\n\" % item)"
   ]
  },
  {
   "cell_type": "code",
   "execution_count": null,
   "metadata": {},
   "outputs": [],
   "source": []
  }
 ],
 "metadata": {
  "kernelspec": {
   "display_name": "Python 3 (ipykernel)",
   "language": "python",
   "name": "python3"
  },
  "language_info": {
   "codemirror_mode": {
    "name": "ipython",
    "version": 3
   },
   "file_extension": ".py",
   "mimetype": "text/x-python",
   "name": "python",
   "nbconvert_exporter": "python",
   "pygments_lexer": "ipython3",
   "version": "3.7.4"
  }
 },
 "nbformat": 4,
 "nbformat_minor": 4
}

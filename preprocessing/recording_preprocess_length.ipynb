{
 "cells": [
  {
   "cell_type": "code",
   "execution_count": 1,
   "id": "f9cf7ed0-af65-4833-9721-77544d79e699",
   "metadata": {},
   "outputs": [],
   "source": [
    "import os\n",
    "import pandas as pd\n",
    "import subprocess"
   ]
  },
  {
   "cell_type": "code",
   "execution_count": 2,
   "id": "31505bf8-a760-405a-95a8-593825b7a1f8",
   "metadata": {},
   "outputs": [],
   "source": [
    "dataset_path = '/datasets/xeno_canto/491_dataset/'"
   ]
  },
  {
   "cell_type": "code",
   "execution_count": 4,
   "id": "0ad60e7e-ca52-48cf-aa4e-20c8febd2f66",
   "metadata": {},
   "outputs": [],
   "source": [
    "audio_freq = {}\n",
    "index = []\n",
    "freq = []\n",
    "birds = []\n",
    "i = 0"
   ]
  },
  {
   "cell_type": "code",
   "execution_count": 6,
   "id": "d7b1980c-8607-4c96-9cc7-b881beba6660",
   "metadata": {},
   "outputs": [],
   "source": [
    "for bird in os.listdir(dataset_path):\n",
    "    index.append(i)\n",
    "    birds.append(bird)\n",
    "    freq.append(len(os.listdir(dataset_path + bird)))\n",
    "    i += 1"
   ]
  },
  {
   "cell_type": "code",
   "execution_count": 46,
   "id": "7441f041-96a8-4b21-9e91-293f365e9e8c",
   "metadata": {},
   "outputs": [],
   "source": [
    "audio_freq['index'] = index"
   ]
  },
  {
   "cell_type": "code",
   "execution_count": 47,
   "id": "85c2497a-5cda-4d3a-b806-fd474b271c58",
   "metadata": {},
   "outputs": [],
   "source": [
    "audio_freq['birds'] = birds\n",
    "audio_freq['frequency'] = freq"
   ]
  },
  {
   "cell_type": "code",
   "execution_count": 48,
   "id": "3cf465d8-5cbe-4efe-bc24-73d14e516992",
   "metadata": {},
   "outputs": [],
   "source": [
    "df = pd.DataFrame(audio_freq)"
   ]
  },
  {
   "cell_type": "code",
   "execution_count": 49,
   "id": "c19fca2c-8ff7-4d1e-8d63-c4d8c8f6dbd2",
   "metadata": {},
   "outputs": [],
   "source": [
    "df.drop(df[df['frequency'] < 50].index , inplace = True)"
   ]
  },
  {
   "cell_type": "code",
   "execution_count": 50,
   "id": "b05bd94a-182e-4e08-9e54-d97e7566cffd",
   "metadata": {},
   "outputs": [
    {
     "data": {
      "text/html": [
       "<div>\n",
       "<style scoped>\n",
       "    .dataframe tbody tr th:only-of-type {\n",
       "        vertical-align: middle;\n",
       "    }\n",
       "\n",
       "    .dataframe tbody tr th {\n",
       "        vertical-align: top;\n",
       "    }\n",
       "\n",
       "    .dataframe thead th {\n",
       "        text-align: right;\n",
       "    }\n",
       "</style>\n",
       "<table border=\"1\" class=\"dataframe\">\n",
       "  <thead>\n",
       "    <tr style=\"text-align: right;\">\n",
       "      <th></th>\n",
       "      <th>index</th>\n",
       "      <th>birds</th>\n",
       "      <th>frequency</th>\n",
       "    </tr>\n",
       "  </thead>\n",
       "  <tbody>\n",
       "    <tr>\n",
       "      <th>0</th>\n",
       "      <td>0</td>\n",
       "      <td>lesred1</td>\n",
       "      <td>261</td>\n",
       "    </tr>\n",
       "    <tr>\n",
       "      <th>1</th>\n",
       "      <td>1</td>\n",
       "      <td>comred</td>\n",
       "      <td>495</td>\n",
       "    </tr>\n",
       "    <tr>\n",
       "      <th>2</th>\n",
       "      <td>2</td>\n",
       "      <td>hoared</td>\n",
       "      <td>73</td>\n",
       "    </tr>\n",
       "    <tr>\n",
       "      <th>3</th>\n",
       "      <td>3</td>\n",
       "      <td>shikra1</td>\n",
       "      <td>110</td>\n",
       "    </tr>\n",
       "    <tr>\n",
       "      <th>5</th>\n",
       "      <td>5</td>\n",
       "      <td>norgos</td>\n",
       "      <td>637</td>\n",
       "    </tr>\n",
       "    <tr>\n",
       "      <th>...</th>\n",
       "      <td>...</td>\n",
       "      <td>...</td>\n",
       "      <td>...</td>\n",
       "    </tr>\n",
       "    <tr>\n",
       "      <th>854</th>\n",
       "      <td>854</td>\n",
       "      <td>hoopoe</td>\n",
       "      <td>466</td>\n",
       "    </tr>\n",
       "    <tr>\n",
       "      <th>855</th>\n",
       "      <td>855</td>\n",
       "      <td>commur</td>\n",
       "      <td>113</td>\n",
       "    </tr>\n",
       "    <tr>\n",
       "      <th>859</th>\n",
       "      <td>859</td>\n",
       "      <td>rewlap1</td>\n",
       "      <td>165</td>\n",
       "    </tr>\n",
       "    <tr>\n",
       "      <th>861</th>\n",
       "      <td>861</td>\n",
       "      <td>spwlap1</td>\n",
       "      <td>81</td>\n",
       "    </tr>\n",
       "    <tr>\n",
       "      <th>862</th>\n",
       "      <td>862</td>\n",
       "      <td>norlap</td>\n",
       "      <td>838</td>\n",
       "    </tr>\n",
       "  </tbody>\n",
       "</table>\n",
       "<p>575 rows × 3 columns</p>\n",
       "</div>"
      ],
      "text/plain": [
       "     index    birds  frequency\n",
       "0        0  lesred1        261\n",
       "1        1   comred        495\n",
       "2        2   hoared         73\n",
       "3        3  shikra1        110\n",
       "5        5   norgos        637\n",
       "..     ...      ...        ...\n",
       "854    854   hoopoe        466\n",
       "855    855   commur        113\n",
       "859    859  rewlap1        165\n",
       "861    861  spwlap1         81\n",
       "862    862   norlap        838\n",
       "\n",
       "[575 rows x 3 columns]"
      ]
     },
     "execution_count": 50,
     "metadata": {},
     "output_type": "execute_result"
    }
   ],
   "source": [
    "df"
   ]
  },
  {
   "cell_type": "code",
   "execution_count": 51,
   "id": "e1f9a5b7-e68d-42d0-88e7-85a27ac64a27",
   "metadata": {},
   "outputs": [],
   "source": [
    "df.to_csv('./bird_frequency_eliminated_50.csv', index = False)"
   ]
  },
  {
   "cell_type": "code",
   "execution_count": 52,
   "id": "cf2cfbf9-821a-4536-978b-b3d122f353b4",
   "metadata": {},
   "outputs": [],
   "source": [
    "#drop recordings less than 5 seconds"
   ]
  },
  {
   "cell_type": "code",
   "execution_count": 3,
   "id": "c74bcd56-c324-4d1c-ae9e-456143091436",
   "metadata": {},
   "outputs": [],
   "source": [
    "base_path = '/datasets/xeno_canto/491_dataset/'"
   ]
  },
  {
   "cell_type": "code",
   "execution_count": 4,
   "id": "fea3fac4-a9b8-4b33-a73a-1ca2f5ce8114",
   "metadata": {},
   "outputs": [
    {
     "ename": "SyntaxError",
     "evalue": "invalid syntax (4178427511.py, line 1)",
     "output_type": "error",
     "traceback": [
      "\u001b[0;36m  File \u001b[0;32m\"/tmp/ipykernel_27081/4178427511.py\"\u001b[0;36m, line \u001b[0;32m1\u001b[0m\n\u001b[0;31m    ffprobe -i 51112.wav -show_entries format=duration -v quiet -of csv=\"p=0\"\u001b[0m\n\u001b[0m               ^\u001b[0m\n\u001b[0;31mSyntaxError\u001b[0m\u001b[0;31m:\u001b[0m invalid syntax\n"
     ]
    }
   ],
   "source": [
    "ffprobe -i 51112.wav -show_entries format=duration -v quiet -of csv=\"p=0\""
   ]
  },
  {
   "cell_type": "code",
   "execution_count": 5,
   "id": "744641b0-fb00-4ad3-9a79-ea05c3812027",
   "metadata": {},
   "outputs": [
    {
     "ename": "NameError",
     "evalue": "name 'audio' is not defined",
     "output_type": "error",
     "traceback": [
      "\u001b[0;31m---------------------------------------------------------------------------\u001b[0m",
      "\u001b[0;31mNameError\u001b[0m                                 Traceback (most recent call last)",
      "\u001b[0;32m/tmp/ipykernel_27081/3794304884.py\u001b[0m in \u001b[0;36m<module>\u001b[0;34m\u001b[0m\n\u001b[0;32m----> 1\u001b[0;31m \u001b[0mcmd\u001b[0m \u001b[0;34m=\u001b[0m \u001b[0;34m\"ffprobe -i {audio} -show_entries format=duration -v quiet -of csv='p=0'\"\u001b[0m\u001b[0;34m.\u001b[0m\u001b[0mformat\u001b[0m\u001b[0;34m(\u001b[0m\u001b[0maudio\u001b[0m \u001b[0;34m=\u001b[0m \u001b[0maudio\u001b[0m\u001b[0;34m)\u001b[0m\u001b[0;34m\u001b[0m\u001b[0;34m\u001b[0m\u001b[0m\n\u001b[0m",
      "\u001b[0;31mNameError\u001b[0m: name 'audio' is not defined"
     ]
    }
   ],
   "source": [
    "cmd = \"ffprobe -i {audio} -show_entries format=duration -v quiet -of csv='p=0'\".format(audio = audio)"
   ]
  },
  {
   "cell_type": "code",
   "execution_count": 7,
   "id": "9cc9d55f-bc3c-41ea-854d-6d88d0bce3b8",
   "metadata": {},
   "outputs": [],
   "source": [
    "audio = base_path + \"51112.wav\""
   ]
  },
  {
   "cell_type": "code",
   "execution_count": 10,
   "id": "32832e27-5064-4b40-8306-3737f74438ed",
   "metadata": {},
   "outputs": [
    {
     "ename": "FileNotFoundError",
     "evalue": "[Errno 2] No such file or directory: 'ffprobe'",
     "output_type": "error",
     "traceback": [
      "\u001b[0;31m---------------------------------------------------------------------------\u001b[0m",
      "\u001b[0;31mFileNotFoundError\u001b[0m                         Traceback (most recent call last)",
      "\u001b[0;32m/tmp/ipykernel_27081/1775778436.py\u001b[0m in \u001b[0;36m<module>\u001b[0;34m\u001b[0m\n\u001b[1;32m      1\u001b[0m \u001b[0mos\u001b[0m\u001b[0;34m.\u001b[0m\u001b[0msystem\u001b[0m\u001b[0;34m(\u001b[0m\u001b[0;34m\"module load ffmpeg/4.4.0_x265\"\u001b[0m\u001b[0;34m)\u001b[0m\u001b[0;34m\u001b[0m\u001b[0;34m\u001b[0m\u001b[0m\n\u001b[0;32m----> 2\u001b[0;31m out = subprocess.Popen([\"ffprobe\", \"-i\", str(audio), \"-show_entries\", \"format=duration\", \"-v\",\n\u001b[0m\u001b[1;32m      3\u001b[0m                         \"quiet\", \"-of\", \"csv='p=0'\"], \n\u001b[1;32m      4\u001b[0m            \u001b[0mstdout\u001b[0m\u001b[0;34m=\u001b[0m\u001b[0msubprocess\u001b[0m\u001b[0;34m.\u001b[0m\u001b[0mPIPE\u001b[0m\u001b[0;34m,\u001b[0m\u001b[0;34m\u001b[0m\u001b[0;34m\u001b[0m\u001b[0m\n\u001b[1;32m      5\u001b[0m            stderr=subprocess.STDOUT)\n",
      "\u001b[0;32m~/.conda/envs/ast_env/lib/python3.9/subprocess.py\u001b[0m in \u001b[0;36m__init__\u001b[0;34m(self, args, bufsize, executable, stdin, stdout, stderr, preexec_fn, close_fds, shell, cwd, env, universal_newlines, startupinfo, creationflags, restore_signals, start_new_session, pass_fds, user, group, extra_groups, encoding, errors, text, umask)\u001b[0m\n\u001b[1;32m    945\u001b[0m                             encoding=encoding, errors=errors)\n\u001b[1;32m    946\u001b[0m \u001b[0;34m\u001b[0m\u001b[0m\n\u001b[0;32m--> 947\u001b[0;31m             self._execute_child(args, executable, preexec_fn, close_fds,\n\u001b[0m\u001b[1;32m    948\u001b[0m                                 \u001b[0mpass_fds\u001b[0m\u001b[0;34m,\u001b[0m \u001b[0mcwd\u001b[0m\u001b[0;34m,\u001b[0m \u001b[0menv\u001b[0m\u001b[0;34m,\u001b[0m\u001b[0;34m\u001b[0m\u001b[0;34m\u001b[0m\u001b[0m\n\u001b[1;32m    949\u001b[0m                                 \u001b[0mstartupinfo\u001b[0m\u001b[0;34m,\u001b[0m \u001b[0mcreationflags\u001b[0m\u001b[0;34m,\u001b[0m \u001b[0mshell\u001b[0m\u001b[0;34m,\u001b[0m\u001b[0;34m\u001b[0m\u001b[0;34m\u001b[0m\u001b[0m\n",
      "\u001b[0;32m~/.conda/envs/ast_env/lib/python3.9/subprocess.py\u001b[0m in \u001b[0;36m_execute_child\u001b[0;34m(self, args, executable, preexec_fn, close_fds, pass_fds, cwd, env, startupinfo, creationflags, shell, p2cread, p2cwrite, c2pread, c2pwrite, errread, errwrite, restore_signals, gid, gids, uid, umask, start_new_session)\u001b[0m\n\u001b[1;32m   1817\u001b[0m                     \u001b[0;32mif\u001b[0m \u001b[0merrno_num\u001b[0m \u001b[0;34m!=\u001b[0m \u001b[0;36m0\u001b[0m\u001b[0;34m:\u001b[0m\u001b[0;34m\u001b[0m\u001b[0;34m\u001b[0m\u001b[0m\n\u001b[1;32m   1818\u001b[0m                         \u001b[0merr_msg\u001b[0m \u001b[0;34m=\u001b[0m \u001b[0mos\u001b[0m\u001b[0;34m.\u001b[0m\u001b[0mstrerror\u001b[0m\u001b[0;34m(\u001b[0m\u001b[0merrno_num\u001b[0m\u001b[0;34m)\u001b[0m\u001b[0;34m\u001b[0m\u001b[0;34m\u001b[0m\u001b[0m\n\u001b[0;32m-> 1819\u001b[0;31m                     \u001b[0;32mraise\u001b[0m \u001b[0mchild_exception_type\u001b[0m\u001b[0;34m(\u001b[0m\u001b[0merrno_num\u001b[0m\u001b[0;34m,\u001b[0m \u001b[0merr_msg\u001b[0m\u001b[0;34m,\u001b[0m \u001b[0merr_filename\u001b[0m\u001b[0;34m)\u001b[0m\u001b[0;34m\u001b[0m\u001b[0;34m\u001b[0m\u001b[0m\n\u001b[0m\u001b[1;32m   1820\u001b[0m                 \u001b[0;32mraise\u001b[0m \u001b[0mchild_exception_type\u001b[0m\u001b[0;34m(\u001b[0m\u001b[0merr_msg\u001b[0m\u001b[0;34m)\u001b[0m\u001b[0;34m\u001b[0m\u001b[0;34m\u001b[0m\u001b[0m\n\u001b[1;32m   1821\u001b[0m \u001b[0;34m\u001b[0m\u001b[0m\n",
      "\u001b[0;31mFileNotFoundError\u001b[0m: [Errno 2] No such file or directory: 'ffprobe'"
     ]
    }
   ],
   "source": [
    "out = subprocess.Popen([\"ffprobe\", \"-i\", str(audio), \"-show_entries\", \"format=duration\", \"-v\",\n",
    "                        \"quiet\", \"-of\", \"csv='p=0'\"], \n",
    "           stdout=subprocess.PIPE, \n",
    "           stderr=subprocess.STDOUT)"
   ]
  },
  {
   "cell_type": "code",
   "execution_count": 11,
   "id": "45c5ca34-9e34-476b-8c22-40f6553bb2db",
   "metadata": {},
   "outputs": [],
   "source": [
    "j = [10, 4 ]\n"
   ]
  },
  {
   "cell_type": "code",
   "execution_count": 15,
   "id": "0dc71c31-95d7-4047-b363-8714120438b9",
   "metadata": {},
   "outputs": [],
   "source": [
    "m = []"
   ]
  },
  {
   "cell_type": "code",
   "execution_count": 13,
   "id": "7b58bcc0-cbc0-415b-b7ad-a9c2b0441a36",
   "metadata": {},
   "outputs": [],
   "source": [
    "j.sort()"
   ]
  },
  {
   "cell_type": "code",
   "execution_count": 16,
   "id": "4b2c2f81-f572-4610-9889-984bdc254f56",
   "metadata": {},
   "outputs": [],
   "source": [
    "m.extend(j)"
   ]
  },
  {
   "cell_type": "code",
   "execution_count": 17,
   "id": "a1aa0f02-86e3-4d23-9913-383aea55951c",
   "metadata": {},
   "outputs": [
    {
     "data": {
      "text/plain": [
       "[4, 10]"
      ]
     },
     "execution_count": 17,
     "metadata": {},
     "output_type": "execute_result"
    }
   ],
   "source": [
    "m"
   ]
  },
  {
   "cell_type": "code",
   "execution_count": 18,
   "id": "daf0701c-e471-4c97-a646-dc980cf24b62",
   "metadata": {},
   "outputs": [],
   "source": [
    "k = [3, 2]"
   ]
  },
  {
   "cell_type": "code",
   "execution_count": 19,
   "id": "8ec192aa-c9b8-4bfd-826d-d01ca85e7a25",
   "metadata": {},
   "outputs": [],
   "source": [
    "m.extend(k)"
   ]
  },
  {
   "cell_type": "code",
   "execution_count": 20,
   "id": "f463228b-cdd6-4785-9571-2db5155f125e",
   "metadata": {},
   "outputs": [
    {
     "data": {
      "text/plain": [
       "[4, 10, 3, 2]"
      ]
     },
     "execution_count": 20,
     "metadata": {},
     "output_type": "execute_result"
    }
   ],
   "source": [
    "m"
   ]
  },
  {
   "cell_type": "code",
   "execution_count": 23,
   "id": "4f0ccc66-6608-4454-84f3-524357bb69c2",
   "metadata": {},
   "outputs": [],
   "source": [
    "out = subprocess.Popen(['echo', 'hi'], \n",
    "           stdout=subprocess.PIPE, \n",
    "           stderr=subprocess.STDOUT)"
   ]
  },
  {
   "cell_type": "code",
   "execution_count": 24,
   "id": "32ef14ba-d483-4160-ad04-0a9ac5cb5c6d",
   "metadata": {},
   "outputs": [
    {
     "data": {
      "text/plain": [
       "<Popen: returncode: None args: ['echo', 'hi']>"
      ]
     },
     "execution_count": 24,
     "metadata": {},
     "output_type": "execute_result"
    }
   ],
   "source": [
    "out"
   ]
  },
  {
   "cell_type": "code",
   "execution_count": 25,
   "id": "9c31dc09-4d52-4683-a171-f6edde588cb1",
   "metadata": {},
   "outputs": [
    {
     "name": "stdout",
     "output_type": "stream",
     "text": [
      "b'hi\\n'\n"
     ]
    }
   ],
   "source": [
    "stdout,stderr = out.communicate()\n",
    "print(stdout)"
   ]
  },
  {
   "cell_type": "code",
   "execution_count": 37,
   "id": "ddbb28d0-d787-4c9c-86bc-4ad5e5a5263e",
   "metadata": {},
   "outputs": [],
   "source": [
    "st = stdout.split()[0].decode(\"utf-8\")"
   ]
  },
  {
   "cell_type": "code",
   "execution_count": 38,
   "id": "a929d9cc-28aa-4c8c-b118-62c9675a7c2e",
   "metadata": {},
   "outputs": [
    {
     "data": {
      "text/plain": [
       "'hi'"
      ]
     },
     "execution_count": 38,
     "metadata": {},
     "output_type": "execute_result"
    }
   ],
   "source": [
    "st"
   ]
  },
  {
   "cell_type": "code",
   "execution_count": null,
   "id": "9e397535-240c-41ee-889e-31e9726ff7fd",
   "metadata": {},
   "outputs": [],
   "source": []
  }
 ],
 "metadata": {
  "kernelspec": {
   "display_name": "Python 3 (ipykernel)",
   "language": "python",
   "name": "python3"
  },
  "language_info": {
   "codemirror_mode": {
    "name": "ipython",
    "version": 3
   },
   "file_extension": ".py",
   "mimetype": "text/x-python",
   "name": "python",
   "nbconvert_exporter": "python",
   "pygments_lexer": "ipython3",
   "version": "3.9.0"
  }
 },
 "nbformat": 4,
 "nbformat_minor": 5
}

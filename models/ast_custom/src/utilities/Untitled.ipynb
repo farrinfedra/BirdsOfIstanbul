{
 "cells": [
  {
   "cell_type": "code",
   "execution_count": 14,
   "id": "ba52778c-6dac-4cfe-8e83-6a41d66c81dc",
   "metadata": {},
   "outputs": [
    {
     "name": "stdout",
     "output_type": "stream",
     "text": [
      "/scratch/users/bbiner21/ast/src/utilities\n"
     ]
    }
   ],
   "source": [
    "!pwd"
   ]
  },
  {
   "cell_type": "code",
   "execution_count": 15,
   "id": "82806c35-47a8-4310-b106-ba6031ca9105",
   "metadata": {},
   "outputs": [],
   "source": [
    "import row_wise_micro_averaged_f1 as rw\n",
    "#import micro_f1_similarity\n"
   ]
  },
  {
   "cell_type": "code",
   "execution_count": 16,
   "id": "8314a6f3-a34f-4911-8113-9672f6ba0660",
   "metadata": {},
   "outputs": [
    {
     "name": "stdout",
     "output_type": "stream",
     "text": [
      "0 2\n",
      "0.75\n"
     ]
    }
   ],
   "source": [
    "# a = \"0  17 72  89 101 102 108 124 125 145 188 190 213 215 216 267 347 396\"\n",
    "# b = \"0 362\"\n",
    "import numpy as np\n",
    "\n",
    "a = np.array([0,1])\n",
    "b = np.array([0,2])\n",
    "a = [str(x) for x in a]\n",
    "a = \" \".join(a)\n",
    "\n",
    "b = [str(x) for x in b]\n",
    "b = \" \".join(b)\n",
    "\n",
    "test = []\n",
    "\n",
    "test.append(a)\n",
    "test.append(b)\n",
    "\n",
    "gt = [\"0 1\",\"0 1\"]\n",
    "\n",
    "print(rw.row_wise_micro_averaged_f1_score(test,gt))\n",
    "\n",
    "#row_wise_micro_averaged_f1.micro_f1_similarity(a,b)"
   ]
  },
  {
   "cell_type": "code",
   "execution_count": 13,
   "id": "6a17b133-5afb-4935-bcec-2586524d5ecb",
   "metadata": {},
   "outputs": [
    {
     "name": "stdout",
     "output_type": "stream",
     "text": [
      "aa\n"
     ]
    }
   ],
   "source": [
    "x= []\n",
    "b = \"-\".join(x)\n",
    "if not b:\n",
    "    print(\"aa\")"
   ]
  }
 ],
 "metadata": {
  "kernelspec": {
   "display_name": "Python 3",
   "language": "python",
   "name": "python3"
  },
  "language_info": {
   "codemirror_mode": {
    "name": "ipython",
    "version": 3
   },
   "file_extension": ".py",
   "mimetype": "text/x-python",
   "name": "python",
   "nbconvert_exporter": "python",
   "pygments_lexer": "ipython3",
   "version": "3.8.8"
  }
 },
 "nbformat": 4,
 "nbformat_minor": 5
}

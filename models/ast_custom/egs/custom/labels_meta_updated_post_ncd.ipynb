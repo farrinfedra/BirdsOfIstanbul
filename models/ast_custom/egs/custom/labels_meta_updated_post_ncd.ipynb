{
 "cells": [
  {
   "cell_type": "code",
   "execution_count": 1,
   "id": "6a796930-a8db-4791-bf23-5199ec729a10",
   "metadata": {},
   "outputs": [],
   "source": [
    "#file for adding nocall detection results to custom_meta file\n",
    "#editing labels_csv file"
   ]
  },
  {
   "cell_type": "code",
   "execution_count": 1,
   "id": "d6f0e39d-651c-4833-86c5-5a5e18cb118f",
   "metadata": {},
   "outputs": [],
   "source": [
    "import os \n",
    "import pandas as pd\n",
    "import math"
   ]
  },
  {
   "cell_type": "code",
   "execution_count": 2,
   "id": "95c65c00-a2aa-4aab-9b94-2551ec7568b2",
   "metadata": {},
   "outputs": [],
   "source": [
    "labels_csv = './data/custom_labels.csv'"
   ]
  },
  {
   "cell_type": "code",
   "execution_count": 3,
   "id": "2b898490-73cd-4116-9f82-b1e7fe6bd438",
   "metadata": {},
   "outputs": [],
   "source": [
    "labels = pd.read_csv(labels_csv)"
   ]
  },
  {
   "cell_type": "code",
   "execution_count": 35,
   "id": "587462ae-054a-42fb-8dc7-10ab4b1c7142",
   "metadata": {},
   "outputs": [],
   "source": [
    "labels = labels.drop(columns = ['Unnamed: 0'])"
   ]
  },
  {
   "cell_type": "code",
   "execution_count": 36,
   "id": "a0d393c8-c5ea-4365-8192-707baa2eeba3",
   "metadata": {},
   "outputs": [],
   "source": [
    "row = [20, 'a020', 'nocall'] #modify for all classes"
   ]
  },
  {
   "cell_type": "code",
   "execution_count": 37,
   "id": "c69d13d2-37bf-49d3-92b8-7b5353c8c3a5",
   "metadata": {},
   "outputs": [],
   "source": [
    "labels.loc[len(labels)] = row"
   ]
  },
  {
   "cell_type": "code",
   "execution_count": 10,
   "id": "ee46215a-c97c-441e-a164-a14c6fff0b32",
   "metadata": {},
   "outputs": [
    {
     "ename": "NameError",
     "evalue": "name 'labels' is not defined",
     "output_type": "error",
     "traceback": [
      "\u001b[0;31m---------------------------------------------------------------------------\u001b[0m",
      "\u001b[0;31mNameError\u001b[0m                                 Traceback (most recent call last)",
      "\u001b[0;32m/tmp/ipykernel_17023/2444857136.py\u001b[0m in \u001b[0;36m<module>\u001b[0;34m\u001b[0m\n\u001b[0;32m----> 1\u001b[0;31m \u001b[0mlabels\u001b[0m\u001b[0;34m.\u001b[0m\u001b[0mto_csv\u001b[0m\u001b[0;34m(\u001b[0m\u001b[0;34m'./data/custom_labels.csv'\u001b[0m\u001b[0;34m,\u001b[0m \u001b[0mindex\u001b[0m \u001b[0;34m=\u001b[0m \u001b[0;32mFalse\u001b[0m\u001b[0;34m)\u001b[0m\u001b[0;34m\u001b[0m\u001b[0;34m\u001b[0m\u001b[0m\n\u001b[0m",
      "\u001b[0;31mNameError\u001b[0m: name 'labels' is not defined"
     ]
    }
   ],
   "source": [
    "labels.to_csv('./data/custom_labels.csv', index = False)"
   ]
  },
  {
   "cell_type": "code",
   "execution_count": 239,
   "id": "75b55ce2-fb8d-4104-a14f-602381f59d0a",
   "metadata": {},
   "outputs": [],
   "source": [
    "#modify meta file"
   ]
  },
  {
   "cell_type": "code",
   "execution_count": 316,
   "id": "2967c400-49b7-483b-b59f-b2af67451116",
   "metadata": {},
   "outputs": [],
   "source": [
    "meta_file = './data/custom_data/custom_meta.csv'"
   ]
  },
  {
   "cell_type": "code",
   "execution_count": 317,
   "id": "15aded61-68f2-4e78-ad75-6fc6931be228",
   "metadata": {},
   "outputs": [],
   "source": [
    "meta = pd.read_csv(meta_file)"
   ]
  },
  {
   "cell_type": "code",
   "execution_count": 318,
   "id": "b2a25a73-40c6-4d74-a49f-980397ced55b",
   "metadata": {},
   "outputs": [],
   "source": [
    "nocall_path = './data_nocall/results/call_probs.csv'"
   ]
  },
  {
   "cell_type": "code",
   "execution_count": 319,
   "id": "1b194cbf-b91a-41b7-9e40-04f713af2ae1",
   "metadata": {},
   "outputs": [],
   "source": [
    "nocall = pd.read_csv(nocall_path)"
   ]
  },
  {
   "cell_type": "code",
   "execution_count": 320,
   "id": "3c276c86-3a17-4cbc-bd90-d4143989ff4d",
   "metadata": {},
   "outputs": [],
   "source": [
    "nocall.set_index(\"file\", drop=True, inplace=True)"
   ]
  },
  {
   "cell_type": "code",
   "execution_count": 321,
   "id": "5c1b962d-7e3e-43c4-9156-120ded02f9fc",
   "metadata": {},
   "outputs": [],
   "source": [
    "ncd_dict = nocall.to_dict(orient=\"index\")"
   ]
  },
  {
   "cell_type": "code",
   "execution_count": 322,
   "id": "42a3a18d-9f94-4199-aa54-dddb95cd2dff",
   "metadata": {},
   "outputs": [],
   "source": [
    "meta['call_probs'] = meta['filename'].map(ncd_dict)"
   ]
  },
  {
   "cell_type": "code",
   "execution_count": 323,
   "id": "c0037229-d388-4cb1-9933-7fd138726584",
   "metadata": {},
   "outputs": [],
   "source": [
    "def remove_target(x):\n",
    "    numbers = str(x['call_probs']['target'])\n",
    "    #int_numbers = []\n",
    "    #for num in numbers:\n",
    "     #   if num == '1':\n",
    "     #       int_numbers.append(1)\n",
    "     #   elif num == '0':\n",
    "     #       int_numbers.append(0)\n",
    "    #return int_numbers\n",
    "    return numbers"
   ]
  },
  {
   "cell_type": "code",
   "execution_count": 324,
   "id": "16bdee7c-ab0f-467c-824d-6a5708a9e357",
   "metadata": {},
   "outputs": [],
   "source": [
    "meta['call_probs'] = meta.apply(remove_target, axis = 1)"
   ]
  },
  {
   "cell_type": "code",
   "execution_count": 328,
   "id": "f924ea60-3ba5-40ce-8b17-a0821eaaf3ad",
   "metadata": {},
   "outputs": [],
   "source": [
    "meta = meta.drop(columns = ['Unnamed: 0'])"
   ]
  },
  {
   "cell_type": "code",
   "execution_count": 329,
   "id": "d9f26e1f-15bd-412c-9483-9051739009ca",
   "metadata": {},
   "outputs": [
    {
     "data": {
      "text/html": [
       "<div>\n",
       "<style scoped>\n",
       "    .dataframe tbody tr th:only-of-type {\n",
       "        vertical-align: middle;\n",
       "    }\n",
       "\n",
       "    .dataframe tbody tr th {\n",
       "        vertical-align: top;\n",
       "    }\n",
       "\n",
       "    .dataframe thead th {\n",
       "        text-align: right;\n",
       "    }\n",
       "</style>\n",
       "<table border=\"1\" class=\"dataframe\">\n",
       "  <thead>\n",
       "    <tr style=\"text-align: right;\">\n",
       "      <th></th>\n",
       "      <th>filename</th>\n",
       "      <th>fold</th>\n",
       "      <th>target</th>\n",
       "      <th>primary_label</th>\n",
       "      <th>durations</th>\n",
       "      <th>call_probs</th>\n",
       "    </tr>\n",
       "  </thead>\n",
       "  <tbody>\n",
       "    <tr>\n",
       "      <th>0</th>\n",
       "      <td>693048.wav</td>\n",
       "      <td>4</td>\n",
       "      <td>0</td>\n",
       "      <td>lesred1</td>\n",
       "      <td>20.000000</td>\n",
       "      <td>1 1 1 1</td>\n",
       "    </tr>\n",
       "    <tr>\n",
       "      <th>1</th>\n",
       "      <td>692820.wav</td>\n",
       "      <td>4</td>\n",
       "      <td>0</td>\n",
       "      <td>lesred1</td>\n",
       "      <td>23.312875</td>\n",
       "      <td>1 1 1 1 1</td>\n",
       "    </tr>\n",
       "    <tr>\n",
       "      <th>2</th>\n",
       "      <td>692819.wav</td>\n",
       "      <td>5</td>\n",
       "      <td>0</td>\n",
       "      <td>lesred1</td>\n",
       "      <td>17.504875</td>\n",
       "      <td>1 1 1 1</td>\n",
       "    </tr>\n",
       "    <tr>\n",
       "      <th>3</th>\n",
       "      <td>692818.wav</td>\n",
       "      <td>3</td>\n",
       "      <td>0</td>\n",
       "      <td>lesred1</td>\n",
       "      <td>22.105438</td>\n",
       "      <td>1 1 1 1 1</td>\n",
       "    </tr>\n",
       "    <tr>\n",
       "      <th>4</th>\n",
       "      <td>692817.wav</td>\n",
       "      <td>3</td>\n",
       "      <td>0</td>\n",
       "      <td>lesred1</td>\n",
       "      <td>19.783438</td>\n",
       "      <td>1 1 1 1</td>\n",
       "    </tr>\n",
       "    <tr>\n",
       "      <th>...</th>\n",
       "      <td>...</td>\n",
       "      <td>...</td>\n",
       "      <td>...</td>\n",
       "      <td>...</td>\n",
       "      <td>...</td>\n",
       "      <td>...</td>\n",
       "    </tr>\n",
       "    <tr>\n",
       "      <th>9770</th>\n",
       "      <td>51888.wav</td>\n",
       "      <td>3</td>\n",
       "      <td>19</td>\n",
       "      <td>sposan</td>\n",
       "      <td>2.664500</td>\n",
       "      <td>1</td>\n",
       "    </tr>\n",
       "    <tr>\n",
       "      <th>9771</th>\n",
       "      <td>5862.wav</td>\n",
       "      <td>3</td>\n",
       "      <td>19</td>\n",
       "      <td>sposan</td>\n",
       "      <td>14.027750</td>\n",
       "      <td>1 1 1</td>\n",
       "    </tr>\n",
       "    <tr>\n",
       "      <th>9772</th>\n",
       "      <td>559833.wav</td>\n",
       "      <td>5</td>\n",
       "      <td>19</td>\n",
       "      <td>sposan</td>\n",
       "      <td>19.452250</td>\n",
       "      <td>1 1 1 1</td>\n",
       "    </tr>\n",
       "    <tr>\n",
       "      <th>9773</th>\n",
       "      <td>254627.wav</td>\n",
       "      <td>4</td>\n",
       "      <td>19</td>\n",
       "      <td>sposan</td>\n",
       "      <td>1.700625</td>\n",
       "      <td>0</td>\n",
       "    </tr>\n",
       "    <tr>\n",
       "      <th>9774</th>\n",
       "      <td>211173.wav</td>\n",
       "      <td>5</td>\n",
       "      <td>19</td>\n",
       "      <td>sposan</td>\n",
       "      <td>3.835500</td>\n",
       "      <td>1</td>\n",
       "    </tr>\n",
       "  </tbody>\n",
       "</table>\n",
       "<p>9775 rows × 6 columns</p>\n",
       "</div>"
      ],
      "text/plain": [
       "        filename  fold target primary_label  durations call_probs\n",
       "0     693048.wav     4      0       lesred1  20.000000    1 1 1 1\n",
       "1     692820.wav     4      0       lesred1  23.312875  1 1 1 1 1\n",
       "2     692819.wav     5      0       lesred1  17.504875    1 1 1 1\n",
       "3     692818.wav     3      0       lesred1  22.105438  1 1 1 1 1\n",
       "4     692817.wav     3      0       lesred1  19.783438    1 1 1 1\n",
       "...          ...   ...    ...           ...        ...        ...\n",
       "9770   51888.wav     3     19        sposan   2.664500          1\n",
       "9771    5862.wav     3     19        sposan  14.027750      1 1 1\n",
       "9772  559833.wav     5     19        sposan  19.452250    1 1 1 1\n",
       "9773  254627.wav     4     19        sposan   1.700625          0\n",
       "9774  211173.wav     5     19        sposan   3.835500          1\n",
       "\n",
       "[9775 rows x 6 columns]"
      ]
     },
     "execution_count": 329,
     "metadata": {},
     "output_type": "execute_result"
    }
   ],
   "source": [
    "meta"
   ]
  },
  {
   "cell_type": "code",
   "execution_count": 330,
   "id": "c703c093-6254-4b0d-82e3-b9de2d6c5ee6",
   "metadata": {},
   "outputs": [],
   "source": [
    "meta.to_csv('./data/custom_data/custom_meta_ncd.csv', index = False)"
   ]
  },
  {
   "cell_type": "code",
   "execution_count": null,
   "id": "2b618d10-f8c1-4a2d-8d4d-153a654c7d41",
   "metadata": {},
   "outputs": [],
   "source": []
  }
 ],
 "metadata": {
  "kernelspec": {
   "display_name": "Python 3 (ipykernel)",
   "language": "python",
   "name": "python3"
  },
  "language_info": {
   "codemirror_mode": {
    "name": "ipython",
    "version": 3
   },
   "file_extension": ".py",
   "mimetype": "text/x-python",
   "name": "python",
   "nbconvert_exporter": "python",
   "pygments_lexer": "ipython3",
   "version": "3.9.0"
  }
 },
 "nbformat": 4,
 "nbformat_minor": 5
}

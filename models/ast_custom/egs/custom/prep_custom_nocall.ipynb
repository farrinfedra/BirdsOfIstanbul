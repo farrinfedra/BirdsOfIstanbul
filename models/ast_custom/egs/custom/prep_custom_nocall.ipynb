{
 "cells": [
  {
   "cell_type": "code",
   "execution_count": 25,
   "id": "5128a7a9-ea13-4e3d-890d-91cceaf81ba1",
   "metadata": {},
   "outputs": [],
   "source": [
    "import numpy as np\n",
    "import json\n",
    "import os\n",
    "import zipfile\n",
    "import wget\n",
    "import sys "
   ]
  },
  {
   "cell_type": "code",
   "execution_count": 26,
   "id": "37240ce9-93c1-42de-a172-e97206b8ff08",
   "metadata": {},
   "outputs": [],
   "source": [
    "def get_immediate_subdirectories(a_dir):\n",
    "    return [name for name in os.listdir(a_dir) if os.path.isdir(os.path.join(a_dir, name))]\n",
    "\n",
    "def get_immediate_files(a_dir):\n",
    "    return [name for name in os.listdir(a_dir) if os.path.isfile(os.path.join(a_dir, name))]\n"
   ]
  },
  {
   "cell_type": "code",
   "execution_count": 27,
   "id": "2f4b1001-47f9-4d5c-a9e7-bdd56f5163da",
   "metadata": {},
   "outputs": [],
   "source": [
    "label_set = np.loadtxt('./data/custom_labels.csv', delimiter=',', dtype='str', skiprows=1) #skipped one row the titles"
   ]
  },
  {
   "cell_type": "code",
   "execution_count": 28,
   "id": "30ceeaab-4029-419d-9e80-029865e2b2b1",
   "metadata": {},
   "outputs": [],
   "source": [
    "if os.path.exists('./data_nocall/datafiles') == False:\n",
    "     os.mkdir('./data_nocall/datafiles')\n",
    "    \n",
    "datafiles_dir = './data_nocall/datafiles'"
   ]
  },
  {
   "cell_type": "code",
   "execution_count": 29,
   "id": "6e15b75b-f41d-4e11-ae94-32d206a94e9e",
   "metadata": {},
   "outputs": [],
   "source": [
    "meta = np.loadtxt('./data/custom_data/custom_meta.csv', delimiter=',', dtype='str', skiprows=1)"
   ]
  },
  {
   "cell_type": "code",
   "execution_count": 30,
   "id": "dfb1e60b-0291-42bc-948d-1a568f41b78f",
   "metadata": {},
   "outputs": [],
   "source": [
    "segment_len = 5"
   ]
  },
  {
   "cell_type": "code",
   "execution_count": 31,
   "id": "55fa942f-7bb4-4a7c-80be-27fea023d859",
   "metadata": {},
   "outputs": [
    {
     "data": {
      "text/plain": [
       "array([['0', '693048.wav', '4', '0', 'lesred1', '20.0'],\n",
       "       ['1', '692820.wav', '4', '0', 'lesred1', '23.312875'],\n",
       "       ['2', '692819.wav', '5', '0', 'lesred1', '17.504875'],\n",
       "       ...,\n",
       "       ['9772', '559833.wav', '5', '19', 'sposan', '19.45225'],\n",
       "       ['9773', '254627.wav', '4', '19', 'sposan', '1.700625'],\n",
       "       ['9774', '211173.wav', '5', '19', 'sposan', '3.8355']],\n",
       "      dtype='<U12')"
      ]
     },
     "execution_count": 31,
     "metadata": {},
     "output_type": "execute_result"
    }
   ],
   "source": [
    "meta"
   ]
  },
  {
   "cell_type": "code",
   "execution_count": 32,
   "id": "e61204a1-0094-405d-b4e6-e178e79a0d74",
   "metadata": {},
   "outputs": [
    {
     "name": "stdout",
     "output_type": "stream",
     "text": [
      "fold 1: 146432 training samples, 39291 test samples\n"
     ]
    }
   ],
   "source": [
    "for fold in [1]: # [1,2,3,4,5]\n",
    "    base_path = '/datasets/xeno_canto/sm_dataset/'\n",
    "    #\"./data/custom_data/audio_16k/\"\n",
    "    #base_path = './data/fbank_tensors/'\n",
    "    meta = np.loadtxt('./data/custom_data/custom_meta.csv', delimiter=',', dtype='str', skiprows=1)\n",
    "    train_wav_list = []\n",
    "    eval_wav_list = []\n",
    "    for i in range(0, len(meta)):   # range(0, len(meta)) 200 was small dataset\n",
    "        cur_labels = [x for x in meta[i][3].split(\"-\")]\n",
    "        cur_labels = ['a'+x.zfill(3) for x in cur_labels]\n",
    "        duration = meta[i][5]\n",
    "        cur_path = meta[i][1]\n",
    "        cur_fold = int(meta[i][2])\n",
    "        segment_count = int(np.ceil(float(duration)/segment_len))\n",
    "        \n",
    "        for j in range(segment_count):\n",
    "            cur_dict = {\"wav\": base_path + cur_path, \"labels\": \"-\".join(cur_labels), 'segment': j}\n",
    "            \n",
    "            if cur_fold == fold:\n",
    "                eval_wav_list.append(cur_dict)\n",
    "            else:\n",
    "                train_wav_list.append(cur_dict)\n",
    "    \n",
    "               \n",
    "        \n",
    "    print('fold {:d}: {:d} training samples, {:d} test samples'.format(fold, len(train_wav_list), len(eval_wav_list)))\n",
    "\n",
    "    with open(datafiles_dir + '/custom_train_data_'+ str(fold) +'.json', 'w') as f:\n",
    "        json.dump({'data': train_wav_list}, f, indent=1)\n",
    "\n",
    "    with open(datafiles_dir + '/custom_eval_data_'+ str(fold) +'.json', 'w') as f:\n",
    "        json.dump({'data': eval_wav_list}, f, indent=1)"
   ]
  },
  {
   "cell_type": "code",
   "execution_count": null,
   "id": "f15dcfdb-c062-417d-b6e9-f7979efbad97",
   "metadata": {},
   "outputs": [],
   "source": []
  }
 ],
 "metadata": {
  "kernelspec": {
   "display_name": "Python 3 (ipykernel)",
   "language": "python",
   "name": "python3"
  },
  "language_info": {
   "codemirror_mode": {
    "name": "ipython",
    "version": 3
   },
   "file_extension": ".py",
   "mimetype": "text/x-python",
   "name": "python",
   "nbconvert_exporter": "python",
   "pygments_lexer": "ipython3",
   "version": "3.9.0"
  }
 },
 "nbformat": 4,
 "nbformat_minor": 5
}

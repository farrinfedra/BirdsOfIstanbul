{
 "cells": [
  {
   "cell_type": "code",
   "execution_count": 1,
   "id": "eb61e637-1884-4e73-aec5-0aebcc9b9231",
   "metadata": {},
   "outputs": [],
   "source": [
    "import pandas as pd\n",
    "import random\n",
    "import os\n",
    "import numpy as np\n",
    "import re\n",
    "import librosa"
   ]
  },
  {
   "cell_type": "code",
   "execution_count": 54,
   "id": "7e8085a5-68a2-4aa4-b1c4-2df47dde432f",
   "metadata": {},
   "outputs": [],
   "source": [
    "def get_immediate_files(a_dir):\n",
    "    print(len(os.listdir(a_dir)))\n",
    "    return [name for name in os.listdir(a_dir) if os.path.isfile(os.path.join(a_dir, name))]"
   ]
  },
  {
   "cell_type": "code",
   "execution_count": 55,
   "id": "51945ad4-e774-469d-9574-cd89f3e3a3e3",
   "metadata": {},
   "outputs": [],
   "source": [
    "csv_dir = '../../../../dataset/metadata/metadata.csv'  #'/kuacc/users/bbiner21/input.csv'\n",
    "dataset_dir = '/datasets/xeno_canto/491_dataset/'#'/kuacc/users/bbiner21/ast/egs/custom/data'"
   ]
  },
  {
   "cell_type": "code",
   "execution_count": 70,
   "id": "99db63b7-6ce6-48d9-b57e-0fc53eef5a20",
   "metadata": {},
   "outputs": [
    {
     "name": "stdout",
     "output_type": "stream",
     "text": [
      "Initial data shape: \n",
      "(271753, 11)\n"
     ]
    }
   ],
   "source": [
    "data = pd.read_csv(csv_dir) \n",
    "print(\"Initial data shape: \")\n",
    "print(data.shape)\n",
    "data2 = pd.read_csv(csv_dir)"
   ]
  },
  {
   "cell_type": "code",
   "execution_count": 57,
   "id": "43f16387-8ba3-4730-a06f-8fc1df276760",
   "metadata": {},
   "outputs": [],
   "source": [
    "data = data.drop([\"type\", \"latitude\",\"longitude\",\"scientific_name\",\"common_name\",\"url\"], axis=1)\n"
   ]
  },
  {
   "cell_type": "code",
   "execution_count": 48,
   "id": "71782e1c-4172-4883-a495-88ea9eb4e0c6",
   "metadata": {},
   "outputs": [],
   "source": [
    "valid_audio_list = []"
   ]
  },
  {
   "cell_type": "code",
   "execution_count": 49,
   "id": "9166412d-ae90-460c-8a91-598c2f02ea7a",
   "metadata": {},
   "outputs": [],
   "source": [
    "temp = []"
   ]
  },
  {
   "cell_type": "code",
   "execution_count": 50,
   "id": "fbc19456-b90d-41d5-b331-125ddfa1badb",
   "metadata": {},
   "outputs": [],
   "source": [
    "for name in os.listdir(dataset_dir):\n",
    "    for file in os.listdir(dataset_dir + name):\n",
    "        \n",
    "        joined = os.path.join(dataset_dir, name, file) \n",
    "        if os.path.isfile(joined):\n",
    "            \n",
    "            valid_audio_list.append(file)\n",
    "            temp.append(os.path.join(name, file))"
   ]
  },
  {
   "cell_type": "code",
   "execution_count": null,
   "id": "0c517906-4650-4241-9f3e-55685e92471c",
   "metadata": {},
   "outputs": [],
   "source": [
    "valid_audio_list"
   ]
  },
  {
   "cell_type": "code",
   "execution_count": 58,
   "id": "5726b579-f4c0-427d-a102-bafa86299511",
   "metadata": {},
   "outputs": [],
   "source": [
    "for index, row in data.iterrows():\n",
    "    if row['filename'] not in temp:\n",
    "        data = data.drop(labels=index, axis=0)"
   ]
  },
  {
   "cell_type": "code",
   "execution_count": 73,
   "id": "f7965068-15df-44e9-ad91-577e3acde290",
   "metadata": {},
   "outputs": [
    {
     "data": {
      "text/html": [
       "<div>\n",
       "<style scoped>\n",
       "    .dataframe tbody tr th:only-of-type {\n",
       "        vertical-align: middle;\n",
       "    }\n",
       "\n",
       "    .dataframe tbody tr th {\n",
       "        vertical-align: top;\n",
       "    }\n",
       "\n",
       "    .dataframe thead th {\n",
       "        text-align: right;\n",
       "    }\n",
       "</style>\n",
       "<table border=\"1\" class=\"dataframe\">\n",
       "  <thead>\n",
       "    <tr style=\"text-align: right;\">\n",
       "      <th></th>\n",
       "      <th>primary_label</th>\n",
       "      <th>secondary_label</th>\n",
       "      <th>type</th>\n",
       "      <th>latitude</th>\n",
       "      <th>longitude</th>\n",
       "      <th>scientific_name</th>\n",
       "      <th>common_name</th>\n",
       "      <th>time</th>\n",
       "      <th>url</th>\n",
       "      <th>filename</th>\n",
       "      <th>q</th>\n",
       "    </tr>\n",
       "  </thead>\n",
       "  <tbody>\n",
       "    <tr>\n",
       "      <th>0</th>\n",
       "      <td>lesred1</td>\n",
       "      <td>['']</td>\n",
       "      <td>flight call</td>\n",
       "      <td>51.4812</td>\n",
       "      <td>-9.7785</td>\n",
       "      <td>Acanthis cabaret</td>\n",
       "      <td>Lesser Redpoll</td>\n",
       "      <td>08:00</td>\n",
       "      <td>//xeno-canto.org/693048</td>\n",
       "      <td>lesred1/693048.wav</td>\n",
       "      <td>A</td>\n",
       "    </tr>\n",
       "    <tr>\n",
       "      <th>1</th>\n",
       "      <td>lesred1</td>\n",
       "      <td>['']</td>\n",
       "      <td>flight call</td>\n",
       "      <td>53.7276</td>\n",
       "      <td>-7.7933</td>\n",
       "      <td>Acanthis cabaret</td>\n",
       "      <td>Lesser Redpoll</td>\n",
       "      <td>11:00</td>\n",
       "      <td>//xeno-canto.org/692820</td>\n",
       "      <td>lesred1/692820.wav</td>\n",
       "      <td>A</td>\n",
       "    </tr>\n",
       "    <tr>\n",
       "      <th>2</th>\n",
       "      <td>lesred1</td>\n",
       "      <td>['']</td>\n",
       "      <td>flight call</td>\n",
       "      <td>53.7276</td>\n",
       "      <td>-7.7933</td>\n",
       "      <td>Acanthis cabaret</td>\n",
       "      <td>Lesser Redpoll</td>\n",
       "      <td>11:00</td>\n",
       "      <td>//xeno-canto.org/692819</td>\n",
       "      <td>lesred1/692819.wav</td>\n",
       "      <td>A</td>\n",
       "    </tr>\n",
       "    <tr>\n",
       "      <th>3</th>\n",
       "      <td>lesred1</td>\n",
       "      <td>['']</td>\n",
       "      <td>flight call</td>\n",
       "      <td>53.7276</td>\n",
       "      <td>-7.7933</td>\n",
       "      <td>Acanthis cabaret</td>\n",
       "      <td>Lesser Redpoll</td>\n",
       "      <td>11:00</td>\n",
       "      <td>//xeno-canto.org/692818</td>\n",
       "      <td>lesred1/692818.wav</td>\n",
       "      <td>A</td>\n",
       "    </tr>\n",
       "    <tr>\n",
       "      <th>4</th>\n",
       "      <td>lesred1</td>\n",
       "      <td>['']</td>\n",
       "      <td>flight call</td>\n",
       "      <td>53.7276</td>\n",
       "      <td>-7.7933</td>\n",
       "      <td>Acanthis cabaret</td>\n",
       "      <td>Lesser Redpoll</td>\n",
       "      <td>11:00</td>\n",
       "      <td>//xeno-canto.org/692817</td>\n",
       "      <td>lesred1/692817.wav</td>\n",
       "      <td>A</td>\n",
       "    </tr>\n",
       "    <tr>\n",
       "      <th>...</th>\n",
       "      <td>...</td>\n",
       "      <td>...</td>\n",
       "      <td>...</td>\n",
       "      <td>...</td>\n",
       "      <td>...</td>\n",
       "      <td>...</td>\n",
       "      <td>...</td>\n",
       "      <td>...</td>\n",
       "      <td>...</td>\n",
       "      <td>...</td>\n",
       "      <td>...</td>\n",
       "    </tr>\n",
       "    <tr>\n",
       "      <th>271748</th>\n",
       "      <td>norlap</td>\n",
       "      <td>['Alauda arvensis', 'Sylvia communis']</td>\n",
       "      <td>alarm call</td>\n",
       "      <td>54.1359</td>\n",
       "      <td>-0.5537</td>\n",
       "      <td>Vanellus vanellus</td>\n",
       "      <td>Northern Lapwing</td>\n",
       "      <td>06:42</td>\n",
       "      <td>//xeno-canto.org/321186</td>\n",
       "      <td>norlap/321186.wav</td>\n",
       "      <td>E</td>\n",
       "    </tr>\n",
       "    <tr>\n",
       "      <th>271749</th>\n",
       "      <td>norlap</td>\n",
       "      <td>['']</td>\n",
       "      <td>flight call</td>\n",
       "      <td>54.1338</td>\n",
       "      <td>-0.5523</td>\n",
       "      <td>Vanellus vanellus</td>\n",
       "      <td>Northern Lapwing</td>\n",
       "      <td>08:37</td>\n",
       "      <td>//xeno-canto.org/296869</td>\n",
       "      <td>norlap/296869.wav</td>\n",
       "      <td>E</td>\n",
       "    </tr>\n",
       "    <tr>\n",
       "      <th>271750</th>\n",
       "      <td>norlap</td>\n",
       "      <td>['']</td>\n",
       "      <td>call</td>\n",
       "      <td>54.1200</td>\n",
       "      <td>-0.5445</td>\n",
       "      <td>Vanellus vanellus</td>\n",
       "      <td>Northern Lapwing</td>\n",
       "      <td>08:24</td>\n",
       "      <td>//xeno-canto.org/208193</td>\n",
       "      <td>norlap/208193.wav</td>\n",
       "      <td>E</td>\n",
       "    </tr>\n",
       "    <tr>\n",
       "      <th>271751</th>\n",
       "      <td>norlap</td>\n",
       "      <td>['']</td>\n",
       "      <td>call</td>\n",
       "      <td>54.1200</td>\n",
       "      <td>-0.5445</td>\n",
       "      <td>Vanellus vanellus</td>\n",
       "      <td>Northern Lapwing</td>\n",
       "      <td>08:22</td>\n",
       "      <td>//xeno-canto.org/208191</td>\n",
       "      <td>norlap/208191.wav</td>\n",
       "      <td>E</td>\n",
       "    </tr>\n",
       "    <tr>\n",
       "      <th>271752</th>\n",
       "      <td>norlap</td>\n",
       "      <td>['Crex crex']</td>\n",
       "      <td>alarm call, female, flight call, male</td>\n",
       "      <td>56.5655</td>\n",
       "      <td>47.1698</td>\n",
       "      <td>Vanellus vanellus</td>\n",
       "      <td>Northern Lapwing</td>\n",
       "      <td>05:30</td>\n",
       "      <td>//xeno-canto.org/134665</td>\n",
       "      <td>norlap/134665.wav</td>\n",
       "      <td>E</td>\n",
       "    </tr>\n",
       "  </tbody>\n",
       "</table>\n",
       "<p>271753 rows × 11 columns</p>\n",
       "</div>"
      ],
      "text/plain": [
       "       primary_label                         secondary_label  \\\n",
       "0            lesred1                                    ['']   \n",
       "1            lesred1                                    ['']   \n",
       "2            lesred1                                    ['']   \n",
       "3            lesred1                                    ['']   \n",
       "4            lesred1                                    ['']   \n",
       "...              ...                                     ...   \n",
       "271748        norlap  ['Alauda arvensis', 'Sylvia communis']   \n",
       "271749        norlap                                    ['']   \n",
       "271750        norlap                                    ['']   \n",
       "271751        norlap                                    ['']   \n",
       "271752        norlap                           ['Crex crex']   \n",
       "\n",
       "                                         type  latitude  longitude  \\\n",
       "0                                 flight call   51.4812    -9.7785   \n",
       "1                                 flight call   53.7276    -7.7933   \n",
       "2                                 flight call   53.7276    -7.7933   \n",
       "3                                 flight call   53.7276    -7.7933   \n",
       "4                                 flight call   53.7276    -7.7933   \n",
       "...                                       ...       ...        ...   \n",
       "271748                             alarm call   54.1359    -0.5537   \n",
       "271749                            flight call   54.1338    -0.5523   \n",
       "271750                                   call   54.1200    -0.5445   \n",
       "271751                                   call   54.1200    -0.5445   \n",
       "271752  alarm call, female, flight call, male   56.5655    47.1698   \n",
       "\n",
       "          scientific_name       common_name   time                      url  \\\n",
       "0        Acanthis cabaret    Lesser Redpoll  08:00  //xeno-canto.org/693048   \n",
       "1        Acanthis cabaret    Lesser Redpoll  11:00  //xeno-canto.org/692820   \n",
       "2        Acanthis cabaret    Lesser Redpoll  11:00  //xeno-canto.org/692819   \n",
       "3        Acanthis cabaret    Lesser Redpoll  11:00  //xeno-canto.org/692818   \n",
       "4        Acanthis cabaret    Lesser Redpoll  11:00  //xeno-canto.org/692817   \n",
       "...                   ...               ...    ...                      ...   \n",
       "271748  Vanellus vanellus  Northern Lapwing  06:42  //xeno-canto.org/321186   \n",
       "271749  Vanellus vanellus  Northern Lapwing  08:37  //xeno-canto.org/296869   \n",
       "271750  Vanellus vanellus  Northern Lapwing  08:24  //xeno-canto.org/208193   \n",
       "271751  Vanellus vanellus  Northern Lapwing  08:22  //xeno-canto.org/208191   \n",
       "271752  Vanellus vanellus  Northern Lapwing  05:30  //xeno-canto.org/134665   \n",
       "\n",
       "                  filename  q  \n",
       "0       lesred1/693048.wav  A  \n",
       "1       lesred1/692820.wav  A  \n",
       "2       lesred1/692819.wav  A  \n",
       "3       lesred1/692818.wav  A  \n",
       "4       lesred1/692817.wav  A  \n",
       "...                    ... ..  \n",
       "271748   norlap/321186.wav  E  \n",
       "271749   norlap/296869.wav  E  \n",
       "271750   norlap/208193.wav  E  \n",
       "271751   norlap/208191.wav  E  \n",
       "271752   norlap/134665.wav  E  \n",
       "\n",
       "[271753 rows x 11 columns]"
      ]
     },
     "execution_count": 73,
     "metadata": {},
     "output_type": "execute_result"
    }
   ],
   "source": [
    "data"
   ]
  },
  {
   "cell_type": "code",
   "execution_count": 72,
   "id": "17bb6eb6-51ac-47bf-935c-5f05f6286415",
   "metadata": {},
   "outputs": [
    {
     "name": "stdout",
     "output_type": "stream",
     "text": [
      "after removing some rows and columns\n",
      "(271753, 11)\n"
     ]
    }
   ],
   "source": [
    "print(\"after removing some rows and columns\")\n",
    "print(data.shape)"
   ]
  },
  {
   "cell_type": "code",
   "execution_count": null,
   "id": "00e05aec-ad92-42d3-8454-494713a69dff",
   "metadata": {},
   "outputs": [],
   "source": []
  },
  {
   "cell_type": "code",
   "execution_count": null,
   "id": "7fee0e78-ae89-42cc-8e1c-5f865a1a939d",
   "metadata": {},
   "outputs": [],
   "source": [
    "labels = (data['primary_label'] ).unique()\n",
    "print(len(labels))"
   ]
  },
  {
   "cell_type": "code",
   "execution_count": null,
   "id": "09b694ce-ff87-463c-9135-c7b87d6298c7",
   "metadata": {},
   "outputs": [],
   "source": [
    "sec_labels = [re.sub('[\\[\\'\\]]', '', x) for x in data['secondary_labels']]\n",
    "sec_labels = [(re.sub(r\"\\s+\", \"\", x)).split(',') for x in sec_labels]"
   ]
  },
  {
   "cell_type": "code",
   "execution_count": 60,
   "id": "e20cc59e-d2f2-4061-b435-4e5108bd0aa7",
   "metadata": {},
   "outputs": [
    {
     "name": "stdout",
     "output_type": "stream",
     "text": [
      "found yeccoc1 with 0 files\n",
      "found yebbun with 0 files\n",
      "found chebun1 with 0 files\n",
      "found lotshr1 with 0 files\n",
      "found reblei with 0 files\n",
      "found derpar1 with 0 files\n",
      "found zebfin2 with 0 files\n"
     ]
    }
   ],
   "source": [
    "dir_names = []\n",
    "for name in os.listdir(dataset_dir):\n",
    "    count = len(os.listdir(os.path.join(dataset_dir, name)))\n",
    "    if count == 0:\n",
    "        print(\"found {dirs} with 0 files\".format(dirs = name))\n",
    "        dir_names.append(name)"
   ]
  },
  {
   "cell_type": "code",
   "execution_count": 71,
   "id": "5c00618b-243c-46a3-be53-da6faaaf0d85",
   "metadata": {},
   "outputs": [],
   "source": [
    "for l in data2['primary_label'].tolist():\n",
    "    if l not in data['primary_label'].tolist():\n",
    "        print(l)"
   ]
  },
  {
   "cell_type": "code",
   "execution_count": null,
   "id": "54a8ad60-3f35-4d7a-b459-ccf7e98f7dca",
   "metadata": {},
   "outputs": [],
   "source": []
  }
 ],
 "metadata": {
  "kernelspec": {
   "display_name": "Python 3 (ipykernel)",
   "language": "python",
   "name": "python3"
  },
  "language_info": {
   "codemirror_mode": {
    "name": "ipython",
    "version": 3
   },
   "file_extension": ".py",
   "mimetype": "text/x-python",
   "name": "python",
   "nbconvert_exporter": "python",
   "pygments_lexer": "ipython3",
   "version": "3.9.0"
  }
 },
 "nbformat": 4,
 "nbformat_minor": 5
}

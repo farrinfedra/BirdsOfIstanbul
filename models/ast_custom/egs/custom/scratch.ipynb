{
 "cells": [
  {
   "cell_type": "code",
   "execution_count": 1,
   "id": "eb61e637-1884-4e73-aec5-0aebcc9b9231",
   "metadata": {},
   "outputs": [],
   "source": [
    "import pandas as pd\n",
    "import random\n",
    "import os\n",
    "import numpy as np\n",
    "import re\n",
    "import librosa"
   ]
  },
  {
   "cell_type": "code",
   "execution_count": 56,
   "id": "7e8085a5-68a2-4aa4-b1c4-2df47dde432f",
   "metadata": {},
   "outputs": [],
   "source": [
    "def get_immediate_files(a_dir):\n",
    "    return [name for name in os.listdir(a_dir) if os.path.isfile(os.path.join(a_dir, name))]"
   ]
  },
  {
   "cell_type": "code",
   "execution_count": 57,
   "id": "51945ad4-e774-469d-9574-cd89f3e3a3e3",
   "metadata": {},
   "outputs": [],
   "source": [
    "csv_dir = '../../../../dataset/metadata/meta_sm.csv'  #'/kuacc/users/bbiner21/input.csv'\n",
    "dataset_dir = '/datasets/xeno_canto/sm_dataset/'#'/kuacc/users/bbiner21/ast/egs/custom/data'\n",
    "meta_dir = './data'"
   ]
  },
  {
   "cell_type": "code",
   "execution_count": 58,
   "id": "99db63b7-6ce6-48d9-b57e-0fc53eef5a20",
   "metadata": {},
   "outputs": [
    {
     "name": "stdout",
     "output_type": "stream",
     "text": [
      "Initial data shape: \n",
      "(9775, 11)\n"
     ]
    }
   ],
   "source": [
    "data = pd.read_csv(csv_dir) \n",
    "print(\"Initial data shape: \")\n",
    "print(data.shape)\n",
    "data2 = pd.read_csv(csv_dir)"
   ]
  },
  {
   "cell_type": "code",
   "execution_count": 59,
   "id": "9a4f2a7b-ecbd-4e27-93bf-e0119ac47811",
   "metadata": {},
   "outputs": [],
   "source": [
    "data = data.drop([\"type\", \"latitude\",\"longitude\",\"scientific_name\",\"common_name\",\"url\"], axis=1)\n"
   ]
  },
  {
   "cell_type": "code",
   "execution_count": 60,
   "id": "6ec87ff4-8202-431d-80a4-0801c1558ace",
   "metadata": {},
   "outputs": [
    {
     "data": {
      "text/html": [
       "<div>\n",
       "<style scoped>\n",
       "    .dataframe tbody tr th:only-of-type {\n",
       "        vertical-align: middle;\n",
       "    }\n",
       "\n",
       "    .dataframe tbody tr th {\n",
       "        vertical-align: top;\n",
       "    }\n",
       "\n",
       "    .dataframe thead th {\n",
       "        text-align: right;\n",
       "    }\n",
       "</style>\n",
       "<table border=\"1\" class=\"dataframe\">\n",
       "  <thead>\n",
       "    <tr style=\"text-align: right;\">\n",
       "      <th></th>\n",
       "      <th>primary_label</th>\n",
       "      <th>secondary_label</th>\n",
       "      <th>time</th>\n",
       "      <th>filename</th>\n",
       "      <th>q</th>\n",
       "    </tr>\n",
       "  </thead>\n",
       "  <tbody>\n",
       "    <tr>\n",
       "      <th>0</th>\n",
       "      <td>lesred1</td>\n",
       "      <td>[]</td>\n",
       "      <td>08:00</td>\n",
       "      <td>693048.wav</td>\n",
       "      <td>A</td>\n",
       "    </tr>\n",
       "    <tr>\n",
       "      <th>1</th>\n",
       "      <td>lesred1</td>\n",
       "      <td>[]</td>\n",
       "      <td>11:00</td>\n",
       "      <td>692820.wav</td>\n",
       "      <td>A</td>\n",
       "    </tr>\n",
       "    <tr>\n",
       "      <th>2</th>\n",
       "      <td>lesred1</td>\n",
       "      <td>[]</td>\n",
       "      <td>11:00</td>\n",
       "      <td>692819.wav</td>\n",
       "      <td>A</td>\n",
       "    </tr>\n",
       "    <tr>\n",
       "      <th>3</th>\n",
       "      <td>lesred1</td>\n",
       "      <td>[]</td>\n",
       "      <td>11:00</td>\n",
       "      <td>692818.wav</td>\n",
       "      <td>A</td>\n",
       "    </tr>\n",
       "    <tr>\n",
       "      <th>4</th>\n",
       "      <td>lesred1</td>\n",
       "      <td>[]</td>\n",
       "      <td>11:00</td>\n",
       "      <td>692817.wav</td>\n",
       "      <td>A</td>\n",
       "    </tr>\n",
       "    <tr>\n",
       "      <th>...</th>\n",
       "      <td>...</td>\n",
       "      <td>...</td>\n",
       "      <td>...</td>\n",
       "      <td>...</td>\n",
       "      <td>...</td>\n",
       "    </tr>\n",
       "    <tr>\n",
       "      <th>9770</th>\n",
       "      <td>sposan</td>\n",
       "      <td>[]</td>\n",
       "      <td>?:?</td>\n",
       "      <td>51888.wav</td>\n",
       "      <td>D</td>\n",
       "    </tr>\n",
       "    <tr>\n",
       "      <th>9771</th>\n",
       "      <td>sposan</td>\n",
       "      <td>[]</td>\n",
       "      <td>8:00</td>\n",
       "      <td>5862.wav</td>\n",
       "      <td>D</td>\n",
       "    </tr>\n",
       "    <tr>\n",
       "      <th>9772</th>\n",
       "      <td>sposan</td>\n",
       "      <td>[]</td>\n",
       "      <td>04:45</td>\n",
       "      <td>559833.wav</td>\n",
       "      <td>E</td>\n",
       "    </tr>\n",
       "    <tr>\n",
       "      <th>9773</th>\n",
       "      <td>sposan</td>\n",
       "      <td>[]</td>\n",
       "      <td>18:50</td>\n",
       "      <td>254627.wav</td>\n",
       "      <td>E</td>\n",
       "    </tr>\n",
       "    <tr>\n",
       "      <th>9774</th>\n",
       "      <td>sposan</td>\n",
       "      <td>[]</td>\n",
       "      <td>10:00</td>\n",
       "      <td>211173.wav</td>\n",
       "      <td>E</td>\n",
       "    </tr>\n",
       "  </tbody>\n",
       "</table>\n",
       "<p>9775 rows × 5 columns</p>\n",
       "</div>"
      ],
      "text/plain": [
       "     primary_label secondary_label   time    filename  q\n",
       "0          lesred1              []  08:00  693048.wav  A\n",
       "1          lesred1              []  11:00  692820.wav  A\n",
       "2          lesred1              []  11:00  692819.wav  A\n",
       "3          lesred1              []  11:00  692818.wav  A\n",
       "4          lesred1              []  11:00  692817.wav  A\n",
       "...            ...             ...    ...         ... ..\n",
       "9770        sposan              []    ?:?   51888.wav  D\n",
       "9771        sposan              []   8:00    5862.wav  D\n",
       "9772        sposan              []  04:45  559833.wav  E\n",
       "9773        sposan              []  18:50  254627.wav  E\n",
       "9774        sposan              []  10:00  211173.wav  E\n",
       "\n",
       "[9775 rows x 5 columns]"
      ]
     },
     "execution_count": 60,
     "metadata": {},
     "output_type": "execute_result"
    }
   ],
   "source": [
    "data"
   ]
  },
  {
   "cell_type": "code",
   "execution_count": 61,
   "id": "71782e1c-4172-4883-a495-88ea9eb4e0c6",
   "metadata": {},
   "outputs": [],
   "source": [
    "valid_audio_list = []"
   ]
  },
  {
   "cell_type": "code",
   "execution_count": 62,
   "id": "9166412d-ae90-460c-8a91-598c2f02ea7a",
   "metadata": {},
   "outputs": [],
   "source": [
    "valid_audio_list = get_immediate_files(dataset_dir)"
   ]
  },
  {
   "cell_type": "code",
   "execution_count": 63,
   "id": "7fee0e78-ae89-42cc-8e1c-5f865a1a939d",
   "metadata": {},
   "outputs": [
    {
     "name": "stdout",
     "output_type": "stream",
     "text": [
      "20\n"
     ]
    }
   ],
   "source": [
    "labels = (data['primary_label'] ).unique()\n",
    "print(len(labels))"
   ]
  },
  {
   "cell_type": "code",
   "execution_count": 64,
   "id": "09b694ce-ff87-463c-9135-c7b87d6298c7",
   "metadata": {},
   "outputs": [],
   "source": [
    "sec_labels = [re.sub('[\\[\\'\\]]', '', x) for x in data['secondary_label']]\n",
    "sec_labels = [(re.sub(r\"\\s+\", \"\", x)).split(',') for x in sec_labels]"
   ]
  },
  {
   "cell_type": "code",
   "execution_count": 66,
   "id": "54a8ad60-3f35-4d7a-b459-ccf7e98f7dca",
   "metadata": {},
   "outputs": [],
   "source": [
    "target_dict = {}\n",
    "mid_str = 'a'\n",
    "mid_values = []"
   ]
  },
  {
   "cell_type": "code",
   "execution_count": 67,
   "id": "89d11f23-421f-4e17-9387-bf997e638fea",
   "metadata": {},
   "outputs": [],
   "source": [
    "for ind, label in enumerate(labels):\n",
    "    target_dict[label] = str(ind)\n",
    "    mid_values.append(mid_str + str(ind).zfill(3))"
   ]
  },
  {
   "cell_type": "code",
   "execution_count": 68,
   "id": "4bacf768-0036-426d-b815-59f5fddbb433",
   "metadata": {},
   "outputs": [],
   "source": [
    "ind_values = list(range(len(labels)))"
   ]
  },
  {
   "cell_type": "code",
   "execution_count": 69,
   "id": "1070aa2a-a0af-4070-8b87-a70d092cc20c",
   "metadata": {},
   "outputs": [],
   "source": [
    "custom_dict = {'index': ind_values, 'mid':mid_values, 'display_name':labels }\n",
    "df = pd.DataFrame(data=custom_dict)"
   ]
  },
  {
   "cell_type": "code",
   "execution_count": 70,
   "id": "749d49b0-c3bc-4187-95e5-754c539b0136",
   "metadata": {},
   "outputs": [],
   "source": [
    "df.to_csv(os.path.join(meta_dir, 'custom_labels.csv'))"
   ]
  },
  {
   "cell_type": "code",
   "execution_count": 71,
   "id": "1bed9dcf-548d-4d25-ab16-e6a119f373b4",
   "metadata": {},
   "outputs": [],
   "source": [
    "#CREATE CUSTOM META BELOW"
   ]
  },
  {
   "cell_type": "code",
   "execution_count": 72,
   "id": "b4637b58-fce3-4648-afd3-5517c5d5e07c",
   "metadata": {},
   "outputs": [],
   "source": [
    "targets = []\n",
    "maxLen = 10\n",
    "durations = []"
   ]
  },
  {
   "cell_type": "code",
   "execution_count": null,
   "id": "d68a241d-a92b-4ac9-9d8a-39ece616a266",
   "metadata": {},
   "outputs": [],
   "source": [
    "for index, row in data.iterrows():\n",
    "    curr_targets = [target_dict[row['primary_label']]]\n",
    "    if row['secondary_label'] != '[]':\n",
    "        temp_secondary = (re.sub('[\\[\\'\\]]', '', row['secondary_label']))\n",
    "        temp_secondary = (re.sub(r\"\\s+\", \"\", temp_secondary)).split(',')\n",
    "        #print(temp_secondary)\n",
    "\n",
    "        secondary_targets = [target_dict[x] for x in temp_secondary]\n",
    "        #curr_targets += secondary_targets\n",
    "    \n",
    "    #curr_targets = [str(x) for x in curr_targets]\n",
    "    targets.append(\"-\".join(curr_targets))\n",
    "    file_path = dataset_dir + row['filename']\n",
    "    y, sr = librosa.load(path = file_path , sr = 16000)\n",
    "    durations.append(librosa.get_duration(y=y, sr=sr))\n",
    "\n",
    "    if index % 10000 == 0:\n",
    "        print(index)"
   ]
  },
  {
   "cell_type": "code",
   "execution_count": 81,
   "id": "39c0e6dc-e83d-4f44-b409-302c30dbcfbb",
   "metadata": {},
   "outputs": [],
   "source": [
    "num_fold =5\n",
    "sample_per_fold = len(data)//num_fold\n",
    "remainder = len(data) % num_fold"
   ]
  },
  {
   "cell_type": "code",
   "execution_count": 82,
   "id": "7d5534e0-3089-40be-a909-636d4b25d53d",
   "metadata": {},
   "outputs": [],
   "source": [
    "folds = []\n",
    "for i in range(num_fold):\n",
    "    for j in range(sample_per_fold):\n",
    "        folds.append(i+1)"
   ]
  },
  {
   "cell_type": "code",
   "execution_count": 83,
   "id": "819f3f7e-0977-4094-833d-cd36a181fb08",
   "metadata": {},
   "outputs": [],
   "source": [
    "for j in range(remainder):\n",
    "    folds.append(j+1)"
   ]
  },
  {
   "cell_type": "code",
   "execution_count": 84,
   "id": "e32494bc-8428-47cc-8039-4b72efea7c8a",
   "metadata": {},
   "outputs": [],
   "source": [
    "random.shuffle(folds)"
   ]
  },
  {
   "cell_type": "code",
   "execution_count": 86,
   "id": "5fcd5473-b9ac-4d40-8237-a41e2bf65ff9",
   "metadata": {},
   "outputs": [],
   "source": [
    "data['fold'] = folds\n",
    "data['target'] = targets\n",
    "data['durations'] = durations\n",
    "#data[\"call_detection\"] = call_binaries\n",
    "data = data[[\"filename\",\"fold\",\"target\",\"primary_label\",\"durations\"]]"
   ]
  },
  {
   "cell_type": "code",
   "execution_count": 90,
   "id": "69416267-e687-475a-b4df-90a276e779df",
   "metadata": {},
   "outputs": [],
   "source": [
    "data.to_csv(meta_dir + '/custom_data/custom_meta.csv')"
   ]
  },
  {
   "cell_type": "code",
   "execution_count": null,
   "id": "d823bc06-1e22-40a2-ae8f-4cb06f4ae97b",
   "metadata": {},
   "outputs": [],
   "source": []
  }
 ],
 "metadata": {
  "kernelspec": {
   "display_name": "Python 3 (ipykernel)",
   "language": "python",
   "name": "python3"
  },
  "language_info": {
   "codemirror_mode": {
    "name": "ipython",
    "version": 3
   },
   "file_extension": ".py",
   "mimetype": "text/x-python",
   "name": "python",
   "nbconvert_exporter": "python",
   "pygments_lexer": "ipython3",
   "version": "3.9.0"
  }
 },
 "nbformat": 4,
 "nbformat_minor": 5
}

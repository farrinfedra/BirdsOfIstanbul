{
 "cells": [
  {
   "cell_type": "code",
   "execution_count": 14,
   "id": "47aa71e3-1517-42a6-b998-812d45c8aca6",
   "metadata": {},
   "outputs": [],
   "source": [
    "import numpy as np\n",
    "import json\n",
    "import os\n",
    "import sys \n",
    "import csv"
   ]
  },
  {
   "cell_type": "code",
   "execution_count": 15,
   "id": "8df5d3b1-4248-4aa9-bd4e-0e3c033b5139",
   "metadata": {},
   "outputs": [],
   "source": [
    "label_set = np.loadtxt('./data/custom_labels.csv', delimiter=',', dtype='str')"
   ]
  },
  {
   "cell_type": "code",
   "execution_count": 16,
   "id": "017d2bf0-5d82-4502-a291-d2d183156c6d",
   "metadata": {},
   "outputs": [],
   "source": [
    "datafiles_dir = './data/datafiles'"
   ]
  },
  {
   "cell_type": "code",
   "execution_count": 17,
   "id": "fb8fc74d-3748-41ba-930d-0efde744345e",
   "metadata": {},
   "outputs": [],
   "source": [
    "if os.path.exists(datafiles_dir) == False:\n",
    "    os.mkdir(datafiles_dir)"
   ]
  },
  {
   "cell_type": "code",
   "execution_count": 18,
   "id": "09adf953-b81c-43bc-afd2-47346985813c",
   "metadata": {},
   "outputs": [],
   "source": [
    "meta = np.loadtxt('./data/custom_data/custom_meta_ncd.csv', delimiter=',', dtype=str, skiprows = 1)"
   ]
  },
  {
   "cell_type": "code",
   "execution_count": 19,
   "id": "686cd69c-7250-4129-a831-12ab66fb57fe",
   "metadata": {},
   "outputs": [
    {
     "data": {
      "text/plain": [
       "array([['693048.wav', '4', '0', 'lesred1', '20.0', '1 1 1 1'],\n",
       "       ['692820.wav', '4', '0', 'lesred1', '23.312875', '1 1 1 1 1'],\n",
       "       ['692819.wav', '5', '0', 'lesred1', '17.504875', '1 1 1 1'],\n",
       "       ...,\n",
       "       ['559833.wav', '5', '19', 'sposan', '19.45225', '1 1 1 1'],\n",
       "       ['254627.wav', '4', '19', 'sposan', '1.700625', '0'],\n",
       "       ['211173.wav', '5', '19', 'sposan', '3.8355', '1']], dtype='<U2565')"
      ]
     },
     "execution_count": 19,
     "metadata": {},
     "output_type": "execute_result"
    }
   ],
   "source": [
    "meta"
   ]
  },
  {
   "cell_type": "code",
   "execution_count": 20,
   "id": "ca4be006-06fa-430a-ab68-344d5a5bf897",
   "metadata": {},
   "outputs": [
    {
     "name": "stdout",
     "output_type": "stream",
     "text": [
      "fold 1: 146364 training samples, 39276 test samples\n",
      "fold 2: 151553 training samples, 34087 test samples\n",
      "fold 3: 147722 training samples, 37918 test samples\n",
      "fold 4: 146721 training samples, 38919 test samples\n",
      "fold 5: 150200 training samples, 35440 test samples\n",
      "Finished custom Preparation\n"
     ]
    }
   ],
   "source": [
    "nocall_label = 'a020'\n",
    "for fold in [1,2,3,4,5]:\n",
    "    base_path = \"/datasets/xeno_canto/sm_dataset/\"\n",
    "    #meta = np.loadtxt('./data/custom_data/custom_meta_duration_probs.csv', delimiter=',', dtype='str', skiprows=1)\n",
    "    \n",
    "    train_wav_list = []\n",
    "    eval_wav_list = []\n",
    "    \n",
    "    for i in range(0, len(meta)):   # range(0, len(meta)) 200 was small dataset\n",
    "        cur_labels = [x for x in meta[i][2].split(\"-\")]\n",
    "        cur_labels = ['a'+x.zfill(3) for x in cur_labels]\n",
    "        if len(cur_labels) > 0:\n",
    "            sec_labels = cur_labels[1:]\n",
    "        else:\n",
    "            sec_labels = []\n",
    "        # indices shifted by 1\n",
    "        #cur_path = (meta[i][1]).split('.')[0] + '.pt'\n",
    "        cur_path = meta[i][0]\n",
    "        \n",
    "        cur_fold = int(meta[i][1])\n",
    "        curr_call_detection = (meta[i][5]).split()\n",
    "        for cd_ind, cd_value in enumerate (curr_call_detection):\n",
    "\n",
    "            if cd_value == '1':\n",
    "                cur_dict = {\"wav\": base_path + cur_path, \"labels\": \"-\".join(cur_labels), \"sec_labels\":sec_labels,\"segment\":cd_ind,}\n",
    "                \n",
    "                if cur_fold == fold:\n",
    "                    eval_wav_list.append(cur_dict)\n",
    "                else:\n",
    "                    train_wav_list.append(cur_dict)\n",
    "            elif cd_value == '0':\n",
    "                sec_labels = []\n",
    "                cur_dict = {\"wav\": base_path + cur_path, \"labels\": nocall_label, \"sec_labels\":sec_labels ,\"segment\":cd_ind} #\n",
    "                if cur_fold == fold:\n",
    "                    eval_wav_list.append(cur_dict)\n",
    "                else:\n",
    "                    train_wav_list.append(cur_dict)\n",
    "        \n",
    "    print('fold {:d}: {:d} training samples, {:d} test samples'.format(fold, len(train_wav_list), len(eval_wav_list)))\n",
    "\n",
    "    with open(datafiles_dir + '/custom_train_data_'+ str(fold) +'.json', 'w') as f:\n",
    "        json.dump({'data': train_wav_list}, f, indent=1)\n",
    "\n",
    "    with open(datafiles_dir + '/custom_eval_data_'+ str(fold) +'.json', 'w') as f:\n",
    "        json.dump({'data': eval_wav_list}, f, indent=1)   \n",
    "print('Finished custom Preparation')"
   ]
  },
  {
   "cell_type": "code",
   "execution_count": 4,
   "id": "fc9b94a1-89c3-4c56-b1e5-194ac3037440",
   "metadata": {},
   "outputs": [],
   "source": [
    "with open('./data/datafiles/custom_train_data_1.json', 'r') as fp:\n",
    "            data_json = json.load(fp)"
   ]
  },
  {
   "cell_type": "code",
   "execution_count": 7,
   "id": "1c522026-06a4-45c3-9ac2-e67a73512d30",
   "metadata": {},
   "outputs": [],
   "source": [
    "datum = data_json['data'][0]\n"
   ]
  },
  {
   "cell_type": "code",
   "execution_count": 8,
   "id": "b50bf4f9-13bf-455e-a71a-0bff9d3fff0c",
   "metadata": {},
   "outputs": [
    {
     "data": {
      "text/plain": [
       "{'wav': '/datasets/xeno_canto/sm_dataset/693048.wav',\n",
       " 'labels': 'a000',\n",
       " 'sec_labels': [],\n",
       " 'segment': 0}"
      ]
     },
     "execution_count": 8,
     "metadata": {},
     "output_type": "execute_result"
    }
   ],
   "source": [
    "datum"
   ]
  },
  {
   "cell_type": "code",
   "execution_count": 10,
   "id": "4ad439cc-caba-4da8-8425-da80ac519f22",
   "metadata": {},
   "outputs": [],
   "source": [
    "sec_labels = datum['sec_labels']"
   ]
  },
  {
   "cell_type": "code",
   "execution_count": 11,
   "id": "567d5b4f-94e2-45d9-be08-9a889cf1ab8f",
   "metadata": {},
   "outputs": [],
   "source": [
    "for sec_label in sec_labels:\n",
    "            label_weights[int(self.index_dict[sec_label])] = 0.0"
   ]
  },
  {
   "cell_type": "code",
   "execution_count": null,
   "id": "2bef2e85-352c-45ec-8113-3669a70d2947",
   "metadata": {},
   "outputs": [],
   "source": []
  }
 ],
 "metadata": {
  "kernelspec": {
   "display_name": "Python 3 (ipykernel)",
   "language": "python",
   "name": "python3"
  },
  "language_info": {
   "codemirror_mode": {
    "name": "ipython",
    "version": 3
   },
   "file_extension": ".py",
   "mimetype": "text/x-python",
   "name": "python",
   "nbconvert_exporter": "python",
   "pygments_lexer": "ipython3",
   "version": "3.9.0"
  }
 },
 "nbformat": 4,
 "nbformat_minor": 5
}

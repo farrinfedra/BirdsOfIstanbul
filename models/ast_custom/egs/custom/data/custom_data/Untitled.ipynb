{
 "cells": [
  {
   "cell_type": "code",
   "execution_count": 111,
   "id": "7c038c0c-94e6-4111-81cc-a8c3d2a95812",
   "metadata": {},
   "outputs": [],
   "source": [
    "import pandas as pd\n",
    "import os"
   ]
  },
  {
   "cell_type": "code",
   "execution_count": 112,
   "id": "ce154f8c-e3eb-41fa-9ce1-1d35e6c6cd8e",
   "metadata": {},
   "outputs": [],
   "source": [
    "base = './custom_meta.csv'"
   ]
  },
  {
   "cell_type": "code",
   "execution_count": 113,
   "id": "a923a8fb-3179-408b-aeba-9517faf74205",
   "metadata": {},
   "outputs": [],
   "source": [
    "df = pd.DataFrame(pd.read_csv(base))"
   ]
  },
  {
   "cell_type": "code",
   "execution_count": 120,
   "id": "0d41f434-86cd-41c3-a2f9-66c86703fe11",
   "metadata": {},
   "outputs": [
    {
     "data": {
      "text/html": [
       "<div>\n",
       "<style scoped>\n",
       "    .dataframe tbody tr th:only-of-type {\n",
       "        vertical-align: middle;\n",
       "    }\n",
       "\n",
       "    .dataframe tbody tr th {\n",
       "        vertical-align: top;\n",
       "    }\n",
       "\n",
       "    .dataframe thead th {\n",
       "        text-align: right;\n",
       "    }\n",
       "</style>\n",
       "<table border=\"1\" class=\"dataframe\">\n",
       "  <thead>\n",
       "    <tr style=\"text-align: right;\">\n",
       "      <th></th>\n",
       "      <th>filename</th>\n",
       "      <th>fold</th>\n",
       "      <th>target</th>\n",
       "      <th>primary_label</th>\n",
       "      <th>durations</th>\n",
       "    </tr>\n",
       "  </thead>\n",
       "  <tbody>\n",
       "    <tr>\n",
       "      <th>0</th>\n",
       "      <td>693048.wav</td>\n",
       "      <td>1</td>\n",
       "      <td>0</td>\n",
       "      <td>lesred1</td>\n",
       "      <td>20.000000</td>\n",
       "    </tr>\n",
       "    <tr>\n",
       "      <th>1</th>\n",
       "      <td>692820.wav</td>\n",
       "      <td>2</td>\n",
       "      <td>0</td>\n",
       "      <td>lesred1</td>\n",
       "      <td>23.312875</td>\n",
       "    </tr>\n",
       "    <tr>\n",
       "      <th>2</th>\n",
       "      <td>692819.wav</td>\n",
       "      <td>2</td>\n",
       "      <td>0</td>\n",
       "      <td>lesred1</td>\n",
       "      <td>17.504875</td>\n",
       "    </tr>\n",
       "    <tr>\n",
       "      <th>3</th>\n",
       "      <td>692818.wav</td>\n",
       "      <td>1</td>\n",
       "      <td>0</td>\n",
       "      <td>lesred1</td>\n",
       "      <td>22.105438</td>\n",
       "    </tr>\n",
       "    <tr>\n",
       "      <th>4</th>\n",
       "      <td>692817.wav</td>\n",
       "      <td>1</td>\n",
       "      <td>0</td>\n",
       "      <td>lesred1</td>\n",
       "      <td>19.783438</td>\n",
       "    </tr>\n",
       "    <tr>\n",
       "      <th>...</th>\n",
       "      <td>...</td>\n",
       "      <td>...</td>\n",
       "      <td>...</td>\n",
       "      <td>...</td>\n",
       "      <td>...</td>\n",
       "    </tr>\n",
       "    <tr>\n",
       "      <th>9766</th>\n",
       "      <td>389435.wav</td>\n",
       "      <td>2</td>\n",
       "      <td>19</td>\n",
       "      <td>sposan</td>\n",
       "      <td>69.929812</td>\n",
       "    </tr>\n",
       "    <tr>\n",
       "      <th>9767</th>\n",
       "      <td>332150.wav</td>\n",
       "      <td>1</td>\n",
       "      <td>19</td>\n",
       "      <td>sposan</td>\n",
       "      <td>7.271187</td>\n",
       "    </tr>\n",
       "    <tr>\n",
       "      <th>9769</th>\n",
       "      <td>153616.wav</td>\n",
       "      <td>1</td>\n",
       "      <td>19</td>\n",
       "      <td>sposan</td>\n",
       "      <td>31.346937</td>\n",
       "    </tr>\n",
       "    <tr>\n",
       "      <th>9771</th>\n",
       "      <td>5862.wav</td>\n",
       "      <td>2</td>\n",
       "      <td>19</td>\n",
       "      <td>sposan</td>\n",
       "      <td>14.027750</td>\n",
       "    </tr>\n",
       "    <tr>\n",
       "      <th>9772</th>\n",
       "      <td>559833.wav</td>\n",
       "      <td>1</td>\n",
       "      <td>19</td>\n",
       "      <td>sposan</td>\n",
       "      <td>19.452250</td>\n",
       "    </tr>\n",
       "  </tbody>\n",
       "</table>\n",
       "<p>6756 rows × 5 columns</p>\n",
       "</div>"
      ],
      "text/plain": [
       "        filename  fold  target primary_label  durations\n",
       "0     693048.wav     1       0       lesred1  20.000000\n",
       "1     692820.wav     2       0       lesred1  23.312875\n",
       "2     692819.wav     2       0       lesred1  17.504875\n",
       "3     692818.wav     1       0       lesred1  22.105438\n",
       "4     692817.wav     1       0       lesred1  19.783438\n",
       "...          ...   ...     ...           ...        ...\n",
       "9766  389435.wav     2      19        sposan  69.929812\n",
       "9767  332150.wav     1      19        sposan   7.271187\n",
       "9769  153616.wav     1      19        sposan  31.346937\n",
       "9771    5862.wav     2      19        sposan  14.027750\n",
       "9772  559833.wav     1      19        sposan  19.452250\n",
       "\n",
       "[6756 rows x 5 columns]"
      ]
     },
     "execution_count": 120,
     "metadata": {},
     "output_type": "execute_result"
    }
   ],
   "source": [
    "df"
   ]
  },
  {
   "cell_type": "code",
   "execution_count": 115,
   "id": "d29b7f90-d9d0-4ab2-8d05-76b5c03f330d",
   "metadata": {},
   "outputs": [],
   "source": [
    "df = df.drop(df[df['durations'] < float(6)].index)"
   ]
  },
  {
   "cell_type": "code",
   "execution_count": 119,
   "id": "a4b3e4c1-ada9-4dd9-bbd8-e0d9ab3d409e",
   "metadata": {},
   "outputs": [],
   "source": [
    "df = df.drop(df[df['durations'] > float(100)].index)"
   ]
  },
  {
   "cell_type": "code",
   "execution_count": 117,
   "id": "0353e88c-1e36-49ff-90d6-a4dd4039abea",
   "metadata": {},
   "outputs": [],
   "source": [
    "df = df.drop(columns = ['Unnamed: 0'])"
   ]
  },
  {
   "cell_type": "code",
   "execution_count": 121,
   "id": "85046145-908c-4245-ace6-a0bcc593ca0f",
   "metadata": {},
   "outputs": [],
   "source": [
    "df.to_csv('./custom_meta.csv', index = False)"
   ]
  },
  {
   "cell_type": "code",
   "execution_count": 70,
   "id": "e8e3dadd-3f22-4cb1-803c-49eae34ad7a3",
   "metadata": {},
   "outputs": [],
   "source": [
    "import csv\n",
    "import json\n",
    "import numpy as np"
   ]
  },
  {
   "cell_type": "code",
   "execution_count": 50,
   "id": "244b508c-b76d-48af-820d-930a16baf6cc",
   "metadata": {},
   "outputs": [],
   "source": [
    "label_csv = '../custom_labels.csv'\n",
    "label_indices = np.zeros(20)"
   ]
  },
  {
   "cell_type": "code",
   "execution_count": 51,
   "id": "e6714cd4-9d3f-4169-92ae-ee0bd84a84c5",
   "metadata": {},
   "outputs": [],
   "source": [
    "with open('../datafiles/custom_train_data_1.json', 'r') as fp:\n",
    "            data_json = json.load(fp)\n",
    "        \n",
    "data = data_json['data']"
   ]
  },
  {
   "cell_type": "code",
   "execution_count": 52,
   "id": "6152cc5d-b3ee-4cd8-aa09-41fa186a5e99",
   "metadata": {},
   "outputs": [],
   "source": [
    "def make_index_dict(label_csv):\n",
    "    index_lookup = {}\n",
    "    with open(label_csv, 'r') as f:\n",
    "        csv_reader = csv.DictReader(f)\n",
    "        line_count = 0\n",
    "        for row in csv_reader:\n",
    "            index_lookup[row['mid']] = row['index']\n",
    "            line_count += 1\n",
    "    return index_lookup"
   ]
  },
  {
   "cell_type": "code",
   "execution_count": 53,
   "id": "3f7caceb-f271-43df-aa8f-16423674ab54",
   "metadata": {},
   "outputs": [],
   "source": [
    "index_dict = make_index_dict(label_csv)"
   ]
  },
  {
   "cell_type": "code",
   "execution_count": 54,
   "id": "b4a140ad-fe02-469d-a001-6c3c6a4253c9",
   "metadata": {},
   "outputs": [
    {
     "data": {
      "text/plain": [
       "{'a000': '0',\n",
       " 'a001': '1',\n",
       " 'a002': '2',\n",
       " 'a003': '3',\n",
       " 'a004': '4',\n",
       " 'a005': '5',\n",
       " 'a006': '6',\n",
       " 'a007': '7',\n",
       " 'a008': '8',\n",
       " 'a009': '9',\n",
       " 'a010': '10',\n",
       " 'a011': '11',\n",
       " 'a012': '12',\n",
       " 'a013': '13',\n",
       " 'a014': '14',\n",
       " 'a015': '15',\n",
       " 'a016': '16',\n",
       " 'a017': '17',\n",
       " 'a018': '18',\n",
       " 'a019': '19'}"
      ]
     },
     "execution_count": 54,
     "metadata": {},
     "output_type": "execute_result"
    }
   ],
   "source": [
    "index_dict\n"
   ]
  },
  {
   "cell_type": "code",
   "execution_count": 55,
   "id": "3e106e40-c658-4a14-8e08-94a9b7385634",
   "metadata": {},
   "outputs": [
    {
     "name": "stdout",
     "output_type": "stream",
     "text": [
      "alesred1\n"
     ]
    },
    {
     "ename": "KeyError",
     "evalue": "'alesred1'",
     "output_type": "error",
     "traceback": [
      "\u001b[0;31m---------------------------------------------------------------------------\u001b[0m",
      "\u001b[0;31mKeyError\u001b[0m                                  Traceback (most recent call last)",
      "\u001b[0;32m/tmp/ipykernel_29743/2423856425.py\u001b[0m in \u001b[0;36m<module>\u001b[0;34m\u001b[0m\n\u001b[1;32m      2\u001b[0m     \u001b[0;32mfor\u001b[0m \u001b[0mindex\u001b[0m\u001b[0;34m,\u001b[0m\u001b[0mlabel_str\u001b[0m \u001b[0;32min\u001b[0m \u001b[0menumerate\u001b[0m \u001b[0;34m(\u001b[0m\u001b[0md\u001b[0m\u001b[0;34m[\u001b[0m\u001b[0;34m'labels'\u001b[0m\u001b[0;34m]\u001b[0m\u001b[0;34m.\u001b[0m\u001b[0msplit\u001b[0m\u001b[0;34m(\u001b[0m\u001b[0;34m'-'\u001b[0m\u001b[0;34m)\u001b[0m\u001b[0;34m)\u001b[0m\u001b[0;34m:\u001b[0m\u001b[0;34m\u001b[0m\u001b[0;34m\u001b[0m\u001b[0m\n\u001b[1;32m      3\u001b[0m         \u001b[0mprint\u001b[0m\u001b[0;34m(\u001b[0m\u001b[0mlabel_str\u001b[0m\u001b[0;34m)\u001b[0m\u001b[0;34m\u001b[0m\u001b[0;34m\u001b[0m\u001b[0m\n\u001b[0;32m----> 4\u001b[0;31m         \u001b[0mprint\u001b[0m\u001b[0;34m(\u001b[0m\u001b[0mindex_dict\u001b[0m\u001b[0;34m[\u001b[0m\u001b[0mlabel_str\u001b[0m\u001b[0;34m]\u001b[0m\u001b[0;34m)\u001b[0m\u001b[0;34m\u001b[0m\u001b[0;34m\u001b[0m\u001b[0m\n\u001b[0m\u001b[1;32m      5\u001b[0m         \u001b[0mlabel_indices\u001b[0m\u001b[0;34m[\u001b[0m\u001b[0mint\u001b[0m\u001b[0;34m(\u001b[0m\u001b[0mindex_dict\u001b[0m\u001b[0;34m[\u001b[0m\u001b[0mlabel_str\u001b[0m\u001b[0;34m]\u001b[0m\u001b[0;34m)\u001b[0m\u001b[0;34m]\u001b[0m \u001b[0;34m=\u001b[0m \u001b[0;36m1.0\u001b[0m\u001b[0;34m\u001b[0m\u001b[0;34m\u001b[0m\u001b[0m\n",
      "\u001b[0;31mKeyError\u001b[0m: 'alesred1'"
     ]
    }
   ],
   "source": [
    "for d in data:\n",
    "    for index,label_str in enumerate (d['labels'].split('-')):\n",
    "        print(label_str)\n",
    "        print(index_dict[label_str])\n",
    "        label_indices[int(index_dict[label_str])] = 1.0"
   ]
  },
  {
   "cell_type": "code",
   "execution_count": null,
   "id": "4719573b-5dbe-43ec-aeb1-470e6b13838d",
   "metadata": {},
   "outputs": [],
   "source": []
  }
 ],
 "metadata": {
  "kernelspec": {
   "display_name": "Python 3 (ipykernel)",
   "language": "python",
   "name": "python3"
  },
  "language_info": {
   "codemirror_mode": {
    "name": "ipython",
    "version": 3
   },
   "file_extension": ".py",
   "mimetype": "text/x-python",
   "name": "python",
   "nbconvert_exporter": "python",
   "pygments_lexer": "ipython3",
   "version": "3.9.0"
  }
 },
 "nbformat": 4,
 "nbformat_minor": 5
}
